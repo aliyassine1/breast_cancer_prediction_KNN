{
  "nbformat": 4,
  "nbformat_minor": 0,
  "metadata": {
    "kernelspec": {
      "display_name": "Python 3",
      "language": "python",
      "name": "python3"
    },
    "language_info": {
      "codemirror_mode": {
        "name": "ipython",
        "version": 3
      },
      "file_extension": ".py",
      "mimetype": "text/x-python",
      "name": "python",
      "nbconvert_exporter": "python",
      "pygments_lexer": "ipython3",
      "version": "3.7.4"
    },
    "colab": {
      "name": "APS1070_Project_1_Ali_Yassine.ipynb",
      "provenance": [],
      "collapsed_sections": []
    }
  },
  "cells": [
    {
      "cell_type": "markdown",
      "metadata": {
        "id": "08owH-AVyZCX"
      },
      "source": [
        "# APS1070\n",
        "#### Basic Principles and Models - Project 1\n",
        "**Deadline: Oct 1, 9PM - 10 percent**"
      ]
    },
    {
      "cell_type": "markdown",
      "metadata": {
        "id": "fRZ3wBoe398S"
      },
      "source": [
        "**Academic Integrity**\n",
        "\n",
        "This project is individual - it is to be completed on your own. If you have questions, please post your query in the APS1070 Piazza Q&A forums (the answer might be useful to others!).\n",
        "\n",
        "Do not share your code with others, or post your work online. Do not submit code that you have not written yourself. Students suspected of plagiarism on a project, midterm or exam will be referred to the department for formal discipline for breaches of the Student Code of Conduct."
      ]
    },
    {
      "cell_type": "markdown",
      "metadata": {
        "id": "qonbueFGyemb"
      },
      "source": [
        "Name: Ali Mohamad Yassine  \n",
        "\n",
        "Student ID: 1008618113"
      ]
    },
    {
      "cell_type": "markdown",
      "metadata": {
        "id": "Dykrw3cyy7PF"
      },
      "source": [
        "##**Marking Scheme:**\n",
        "\n",
        "This project is worth **10 percent** of your final grade.\n",
        "\n",
        "Draw a plot or table where necessary to summarize your findings. \n",
        "\n",
        "**Practice Vectorized coding**: If you need to write a loop in your solution, think about how you can implement the same functionality with vectorized operations. Try to avoid loops as much as possible (in some cases, loops are inevitable).\n",
        "\n",
        "\n",
        " <font color='red'>**Remember to push your work on GitHub and share the link of your private repo on Quercus.**</font> \n",
        "\n",
        "\n"
      ]
    },
    {
      "cell_type": "markdown",
      "metadata": {
        "id": "yYlo7mIXyZFe"
      },
      "source": [
        "# Project 1 [10 Marks] \n",
        "Let's apply the tools we have learned in the tutorial to a new dataset.\n",
        "\n",
        "We're going to work with a breast cancer dataset. Download it using the cell below:"
      ]
    },
    {
      "cell_type": "code",
      "metadata": {
        "id": "YFo8KVcryZFe"
      },
      "source": [
        "from sklearn.datasets import load_breast_cancer\n",
        "from sklearn.neighbors import KNeighborsClassifier\n",
        "original_dataset = load_breast_cancer()"
      ],
      "execution_count": null,
      "outputs": []
    },
    {
      "cell_type": "markdown",
      "metadata": {
        "id": "gOGmwyQNyZFh"
      },
      "source": [
        "## Part 1: Getting started [2 Marks]\n",
        "First off, take a look at the `data`, `target` and `feature_names` entries in the `dataset` dictionary. They contain the information we'll be working with here. Then, create a Pandas DataFrame called `df` containing the data and the targets, with the feature names as column headings. If you need help, see [here](https://pandas.pydata.org/pandas-docs/stable/reference/api/pandas.DataFrame.html) for more details on how to achieve this. **[0.4]**\n",
        "* How many features do we have in this dataset? 30\n",
        "* How many observations have a 'mean area' of greater than 700? 171\n",
        "* How many participants tested `Malignant`? 212\n",
        "* How many participants tested `Benign`? 357"
      ]
    },
    {
      "cell_type": "code",
      "metadata": {
        "id": "A5equ6ied8eg"
      },
      "source": [
        "import pandas as pd\n",
        "import numpy as np"
      ],
      "execution_count": null,
      "outputs": []
    },
    {
      "cell_type": "code",
      "metadata": {
        "colab": {
          "base_uri": "https://localhost:8080/"
        },
        "id": "qA8moRnxVaW6",
        "outputId": "f86bac77-c988-439d-a553-2908e202f8a8"
      },
      "source": [
        "#number of features in a dataset answer to question1\n",
        "print(\"The number of features in te dataset is : \",len(original_dataset.feature_names))"
      ],
      "execution_count": null,
      "outputs": [
        {
          "output_type": "stream",
          "name": "stdout",
          "text": [
            "The number of features in te dataset is :  30\n"
          ]
        }
      ]
    },
    {
      "cell_type": "code",
      "metadata": {
        "colab": {
          "base_uri": "https://localhost:8080/",
          "height": 467
        },
        "id": "-yxM5bxrWhhE",
        "outputId": "0d11b937-aa37-476e-d26f-a02e27080136"
      },
      "source": [
        "#Dataframe\n",
        "df=pd.DataFrame(original_dataset.data,columns=original_dataset.feature_names)\n",
        "df.insert(30, 'target', original_dataset.target)\n",
        "df"
      ],
      "execution_count": null,
      "outputs": [
        {
          "output_type": "execute_result",
          "data": {
            "text/html": [
              "<div>\n",
              "<style scoped>\n",
              "    .dataframe tbody tr th:only-of-type {\n",
              "        vertical-align: middle;\n",
              "    }\n",
              "\n",
              "    .dataframe tbody tr th {\n",
              "        vertical-align: top;\n",
              "    }\n",
              "\n",
              "    .dataframe thead th {\n",
              "        text-align: right;\n",
              "    }\n",
              "</style>\n",
              "<table border=\"1\" class=\"dataframe\">\n",
              "  <thead>\n",
              "    <tr style=\"text-align: right;\">\n",
              "      <th></th>\n",
              "      <th>mean radius</th>\n",
              "      <th>mean texture</th>\n",
              "      <th>mean perimeter</th>\n",
              "      <th>mean area</th>\n",
              "      <th>mean smoothness</th>\n",
              "      <th>mean compactness</th>\n",
              "      <th>mean concavity</th>\n",
              "      <th>mean concave points</th>\n",
              "      <th>mean symmetry</th>\n",
              "      <th>mean fractal dimension</th>\n",
              "      <th>radius error</th>\n",
              "      <th>texture error</th>\n",
              "      <th>perimeter error</th>\n",
              "      <th>area error</th>\n",
              "      <th>smoothness error</th>\n",
              "      <th>compactness error</th>\n",
              "      <th>concavity error</th>\n",
              "      <th>concave points error</th>\n",
              "      <th>symmetry error</th>\n",
              "      <th>fractal dimension error</th>\n",
              "      <th>worst radius</th>\n",
              "      <th>worst texture</th>\n",
              "      <th>worst perimeter</th>\n",
              "      <th>worst area</th>\n",
              "      <th>worst smoothness</th>\n",
              "      <th>worst compactness</th>\n",
              "      <th>worst concavity</th>\n",
              "      <th>worst concave points</th>\n",
              "      <th>worst symmetry</th>\n",
              "      <th>worst fractal dimension</th>\n",
              "      <th>target</th>\n",
              "    </tr>\n",
              "  </thead>\n",
              "  <tbody>\n",
              "    <tr>\n",
              "      <th>0</th>\n",
              "      <td>17.99</td>\n",
              "      <td>10.38</td>\n",
              "      <td>122.80</td>\n",
              "      <td>1001.0</td>\n",
              "      <td>0.11840</td>\n",
              "      <td>0.27760</td>\n",
              "      <td>0.30010</td>\n",
              "      <td>0.14710</td>\n",
              "      <td>0.2419</td>\n",
              "      <td>0.07871</td>\n",
              "      <td>1.0950</td>\n",
              "      <td>0.9053</td>\n",
              "      <td>8.589</td>\n",
              "      <td>153.40</td>\n",
              "      <td>0.006399</td>\n",
              "      <td>0.04904</td>\n",
              "      <td>0.05373</td>\n",
              "      <td>0.01587</td>\n",
              "      <td>0.03003</td>\n",
              "      <td>0.006193</td>\n",
              "      <td>25.380</td>\n",
              "      <td>17.33</td>\n",
              "      <td>184.60</td>\n",
              "      <td>2019.0</td>\n",
              "      <td>0.16220</td>\n",
              "      <td>0.66560</td>\n",
              "      <td>0.7119</td>\n",
              "      <td>0.2654</td>\n",
              "      <td>0.4601</td>\n",
              "      <td>0.11890</td>\n",
              "      <td>0</td>\n",
              "    </tr>\n",
              "    <tr>\n",
              "      <th>1</th>\n",
              "      <td>20.57</td>\n",
              "      <td>17.77</td>\n",
              "      <td>132.90</td>\n",
              "      <td>1326.0</td>\n",
              "      <td>0.08474</td>\n",
              "      <td>0.07864</td>\n",
              "      <td>0.08690</td>\n",
              "      <td>0.07017</td>\n",
              "      <td>0.1812</td>\n",
              "      <td>0.05667</td>\n",
              "      <td>0.5435</td>\n",
              "      <td>0.7339</td>\n",
              "      <td>3.398</td>\n",
              "      <td>74.08</td>\n",
              "      <td>0.005225</td>\n",
              "      <td>0.01308</td>\n",
              "      <td>0.01860</td>\n",
              "      <td>0.01340</td>\n",
              "      <td>0.01389</td>\n",
              "      <td>0.003532</td>\n",
              "      <td>24.990</td>\n",
              "      <td>23.41</td>\n",
              "      <td>158.80</td>\n",
              "      <td>1956.0</td>\n",
              "      <td>0.12380</td>\n",
              "      <td>0.18660</td>\n",
              "      <td>0.2416</td>\n",
              "      <td>0.1860</td>\n",
              "      <td>0.2750</td>\n",
              "      <td>0.08902</td>\n",
              "      <td>0</td>\n",
              "    </tr>\n",
              "    <tr>\n",
              "      <th>2</th>\n",
              "      <td>19.69</td>\n",
              "      <td>21.25</td>\n",
              "      <td>130.00</td>\n",
              "      <td>1203.0</td>\n",
              "      <td>0.10960</td>\n",
              "      <td>0.15990</td>\n",
              "      <td>0.19740</td>\n",
              "      <td>0.12790</td>\n",
              "      <td>0.2069</td>\n",
              "      <td>0.05999</td>\n",
              "      <td>0.7456</td>\n",
              "      <td>0.7869</td>\n",
              "      <td>4.585</td>\n",
              "      <td>94.03</td>\n",
              "      <td>0.006150</td>\n",
              "      <td>0.04006</td>\n",
              "      <td>0.03832</td>\n",
              "      <td>0.02058</td>\n",
              "      <td>0.02250</td>\n",
              "      <td>0.004571</td>\n",
              "      <td>23.570</td>\n",
              "      <td>25.53</td>\n",
              "      <td>152.50</td>\n",
              "      <td>1709.0</td>\n",
              "      <td>0.14440</td>\n",
              "      <td>0.42450</td>\n",
              "      <td>0.4504</td>\n",
              "      <td>0.2430</td>\n",
              "      <td>0.3613</td>\n",
              "      <td>0.08758</td>\n",
              "      <td>0</td>\n",
              "    </tr>\n",
              "    <tr>\n",
              "      <th>3</th>\n",
              "      <td>11.42</td>\n",
              "      <td>20.38</td>\n",
              "      <td>77.58</td>\n",
              "      <td>386.1</td>\n",
              "      <td>0.14250</td>\n",
              "      <td>0.28390</td>\n",
              "      <td>0.24140</td>\n",
              "      <td>0.10520</td>\n",
              "      <td>0.2597</td>\n",
              "      <td>0.09744</td>\n",
              "      <td>0.4956</td>\n",
              "      <td>1.1560</td>\n",
              "      <td>3.445</td>\n",
              "      <td>27.23</td>\n",
              "      <td>0.009110</td>\n",
              "      <td>0.07458</td>\n",
              "      <td>0.05661</td>\n",
              "      <td>0.01867</td>\n",
              "      <td>0.05963</td>\n",
              "      <td>0.009208</td>\n",
              "      <td>14.910</td>\n",
              "      <td>26.50</td>\n",
              "      <td>98.87</td>\n",
              "      <td>567.7</td>\n",
              "      <td>0.20980</td>\n",
              "      <td>0.86630</td>\n",
              "      <td>0.6869</td>\n",
              "      <td>0.2575</td>\n",
              "      <td>0.6638</td>\n",
              "      <td>0.17300</td>\n",
              "      <td>0</td>\n",
              "    </tr>\n",
              "    <tr>\n",
              "      <th>4</th>\n",
              "      <td>20.29</td>\n",
              "      <td>14.34</td>\n",
              "      <td>135.10</td>\n",
              "      <td>1297.0</td>\n",
              "      <td>0.10030</td>\n",
              "      <td>0.13280</td>\n",
              "      <td>0.19800</td>\n",
              "      <td>0.10430</td>\n",
              "      <td>0.1809</td>\n",
              "      <td>0.05883</td>\n",
              "      <td>0.7572</td>\n",
              "      <td>0.7813</td>\n",
              "      <td>5.438</td>\n",
              "      <td>94.44</td>\n",
              "      <td>0.011490</td>\n",
              "      <td>0.02461</td>\n",
              "      <td>0.05688</td>\n",
              "      <td>0.01885</td>\n",
              "      <td>0.01756</td>\n",
              "      <td>0.005115</td>\n",
              "      <td>22.540</td>\n",
              "      <td>16.67</td>\n",
              "      <td>152.20</td>\n",
              "      <td>1575.0</td>\n",
              "      <td>0.13740</td>\n",
              "      <td>0.20500</td>\n",
              "      <td>0.4000</td>\n",
              "      <td>0.1625</td>\n",
              "      <td>0.2364</td>\n",
              "      <td>0.07678</td>\n",
              "      <td>0</td>\n",
              "    </tr>\n",
              "    <tr>\n",
              "      <th>...</th>\n",
              "      <td>...</td>\n",
              "      <td>...</td>\n",
              "      <td>...</td>\n",
              "      <td>...</td>\n",
              "      <td>...</td>\n",
              "      <td>...</td>\n",
              "      <td>...</td>\n",
              "      <td>...</td>\n",
              "      <td>...</td>\n",
              "      <td>...</td>\n",
              "      <td>...</td>\n",
              "      <td>...</td>\n",
              "      <td>...</td>\n",
              "      <td>...</td>\n",
              "      <td>...</td>\n",
              "      <td>...</td>\n",
              "      <td>...</td>\n",
              "      <td>...</td>\n",
              "      <td>...</td>\n",
              "      <td>...</td>\n",
              "      <td>...</td>\n",
              "      <td>...</td>\n",
              "      <td>...</td>\n",
              "      <td>...</td>\n",
              "      <td>...</td>\n",
              "      <td>...</td>\n",
              "      <td>...</td>\n",
              "      <td>...</td>\n",
              "      <td>...</td>\n",
              "      <td>...</td>\n",
              "      <td>...</td>\n",
              "    </tr>\n",
              "    <tr>\n",
              "      <th>564</th>\n",
              "      <td>21.56</td>\n",
              "      <td>22.39</td>\n",
              "      <td>142.00</td>\n",
              "      <td>1479.0</td>\n",
              "      <td>0.11100</td>\n",
              "      <td>0.11590</td>\n",
              "      <td>0.24390</td>\n",
              "      <td>0.13890</td>\n",
              "      <td>0.1726</td>\n",
              "      <td>0.05623</td>\n",
              "      <td>1.1760</td>\n",
              "      <td>1.2560</td>\n",
              "      <td>7.673</td>\n",
              "      <td>158.70</td>\n",
              "      <td>0.010300</td>\n",
              "      <td>0.02891</td>\n",
              "      <td>0.05198</td>\n",
              "      <td>0.02454</td>\n",
              "      <td>0.01114</td>\n",
              "      <td>0.004239</td>\n",
              "      <td>25.450</td>\n",
              "      <td>26.40</td>\n",
              "      <td>166.10</td>\n",
              "      <td>2027.0</td>\n",
              "      <td>0.14100</td>\n",
              "      <td>0.21130</td>\n",
              "      <td>0.4107</td>\n",
              "      <td>0.2216</td>\n",
              "      <td>0.2060</td>\n",
              "      <td>0.07115</td>\n",
              "      <td>0</td>\n",
              "    </tr>\n",
              "    <tr>\n",
              "      <th>565</th>\n",
              "      <td>20.13</td>\n",
              "      <td>28.25</td>\n",
              "      <td>131.20</td>\n",
              "      <td>1261.0</td>\n",
              "      <td>0.09780</td>\n",
              "      <td>0.10340</td>\n",
              "      <td>0.14400</td>\n",
              "      <td>0.09791</td>\n",
              "      <td>0.1752</td>\n",
              "      <td>0.05533</td>\n",
              "      <td>0.7655</td>\n",
              "      <td>2.4630</td>\n",
              "      <td>5.203</td>\n",
              "      <td>99.04</td>\n",
              "      <td>0.005769</td>\n",
              "      <td>0.02423</td>\n",
              "      <td>0.03950</td>\n",
              "      <td>0.01678</td>\n",
              "      <td>0.01898</td>\n",
              "      <td>0.002498</td>\n",
              "      <td>23.690</td>\n",
              "      <td>38.25</td>\n",
              "      <td>155.00</td>\n",
              "      <td>1731.0</td>\n",
              "      <td>0.11660</td>\n",
              "      <td>0.19220</td>\n",
              "      <td>0.3215</td>\n",
              "      <td>0.1628</td>\n",
              "      <td>0.2572</td>\n",
              "      <td>0.06637</td>\n",
              "      <td>0</td>\n",
              "    </tr>\n",
              "    <tr>\n",
              "      <th>566</th>\n",
              "      <td>16.60</td>\n",
              "      <td>28.08</td>\n",
              "      <td>108.30</td>\n",
              "      <td>858.1</td>\n",
              "      <td>0.08455</td>\n",
              "      <td>0.10230</td>\n",
              "      <td>0.09251</td>\n",
              "      <td>0.05302</td>\n",
              "      <td>0.1590</td>\n",
              "      <td>0.05648</td>\n",
              "      <td>0.4564</td>\n",
              "      <td>1.0750</td>\n",
              "      <td>3.425</td>\n",
              "      <td>48.55</td>\n",
              "      <td>0.005903</td>\n",
              "      <td>0.03731</td>\n",
              "      <td>0.04730</td>\n",
              "      <td>0.01557</td>\n",
              "      <td>0.01318</td>\n",
              "      <td>0.003892</td>\n",
              "      <td>18.980</td>\n",
              "      <td>34.12</td>\n",
              "      <td>126.70</td>\n",
              "      <td>1124.0</td>\n",
              "      <td>0.11390</td>\n",
              "      <td>0.30940</td>\n",
              "      <td>0.3403</td>\n",
              "      <td>0.1418</td>\n",
              "      <td>0.2218</td>\n",
              "      <td>0.07820</td>\n",
              "      <td>0</td>\n",
              "    </tr>\n",
              "    <tr>\n",
              "      <th>567</th>\n",
              "      <td>20.60</td>\n",
              "      <td>29.33</td>\n",
              "      <td>140.10</td>\n",
              "      <td>1265.0</td>\n",
              "      <td>0.11780</td>\n",
              "      <td>0.27700</td>\n",
              "      <td>0.35140</td>\n",
              "      <td>0.15200</td>\n",
              "      <td>0.2397</td>\n",
              "      <td>0.07016</td>\n",
              "      <td>0.7260</td>\n",
              "      <td>1.5950</td>\n",
              "      <td>5.772</td>\n",
              "      <td>86.22</td>\n",
              "      <td>0.006522</td>\n",
              "      <td>0.06158</td>\n",
              "      <td>0.07117</td>\n",
              "      <td>0.01664</td>\n",
              "      <td>0.02324</td>\n",
              "      <td>0.006185</td>\n",
              "      <td>25.740</td>\n",
              "      <td>39.42</td>\n",
              "      <td>184.60</td>\n",
              "      <td>1821.0</td>\n",
              "      <td>0.16500</td>\n",
              "      <td>0.86810</td>\n",
              "      <td>0.9387</td>\n",
              "      <td>0.2650</td>\n",
              "      <td>0.4087</td>\n",
              "      <td>0.12400</td>\n",
              "      <td>0</td>\n",
              "    </tr>\n",
              "    <tr>\n",
              "      <th>568</th>\n",
              "      <td>7.76</td>\n",
              "      <td>24.54</td>\n",
              "      <td>47.92</td>\n",
              "      <td>181.0</td>\n",
              "      <td>0.05263</td>\n",
              "      <td>0.04362</td>\n",
              "      <td>0.00000</td>\n",
              "      <td>0.00000</td>\n",
              "      <td>0.1587</td>\n",
              "      <td>0.05884</td>\n",
              "      <td>0.3857</td>\n",
              "      <td>1.4280</td>\n",
              "      <td>2.548</td>\n",
              "      <td>19.15</td>\n",
              "      <td>0.007189</td>\n",
              "      <td>0.00466</td>\n",
              "      <td>0.00000</td>\n",
              "      <td>0.00000</td>\n",
              "      <td>0.02676</td>\n",
              "      <td>0.002783</td>\n",
              "      <td>9.456</td>\n",
              "      <td>30.37</td>\n",
              "      <td>59.16</td>\n",
              "      <td>268.6</td>\n",
              "      <td>0.08996</td>\n",
              "      <td>0.06444</td>\n",
              "      <td>0.0000</td>\n",
              "      <td>0.0000</td>\n",
              "      <td>0.2871</td>\n",
              "      <td>0.07039</td>\n",
              "      <td>1</td>\n",
              "    </tr>\n",
              "  </tbody>\n",
              "</table>\n",
              "<p>569 rows × 31 columns</p>\n",
              "</div>"
            ],
            "text/plain": [
              "     mean radius  mean texture  ...  worst fractal dimension  target\n",
              "0          17.99         10.38  ...                  0.11890       0\n",
              "1          20.57         17.77  ...                  0.08902       0\n",
              "2          19.69         21.25  ...                  0.08758       0\n",
              "3          11.42         20.38  ...                  0.17300       0\n",
              "4          20.29         14.34  ...                  0.07678       0\n",
              "..           ...           ...  ...                      ...     ...\n",
              "564        21.56         22.39  ...                  0.07115       0\n",
              "565        20.13         28.25  ...                  0.06637       0\n",
              "566        16.60         28.08  ...                  0.07820       0\n",
              "567        20.60         29.33  ...                  0.12400       0\n",
              "568         7.76         24.54  ...                  0.07039       1\n",
              "\n",
              "[569 rows x 31 columns]"
            ]
          },
          "metadata": {},
          "execution_count": 26
        }
      ]
    },
    {
      "cell_type": "code",
      "metadata": {
        "colab": {
          "base_uri": "https://localhost:8080/"
        },
        "id": "DyW0Iws1Wpk-",
        "outputId": "48ee6653-9d4d-4fc0-d957-9b63793a7004"
      },
      "source": [
        "#with a mean area bigger than  700\n",
        "print(\"Observation with mean area>700:\",df[df['mean area'] > 700].shape[0])"
      ],
      "execution_count": null,
      "outputs": [
        {
          "output_type": "stream",
          "name": "stdout",
          "text": [
            "Observation with mean area>700: 171\n"
          ]
        }
      ]
    },
    {
      "cell_type": "code",
      "metadata": {
        "colab": {
          "base_uri": "https://localhost:8080/"
        },
        "id": "Hf7CyMGpWxt_",
        "outputId": "4a7054db-ef3c-4047-fd18-cc86ebab6be5"
      },
      "source": [
        "#malignant number \n",
        "malignant = np.count_nonzero(original_dataset.target == 0)\n",
        "print(\"Malignant participants: \",malignant)"
      ],
      "execution_count": null,
      "outputs": [
        {
          "output_type": "stream",
          "name": "stdout",
          "text": [
            "Malignant paricipants:  212\n"
          ]
        }
      ]
    },
    {
      "cell_type": "code",
      "metadata": {
        "colab": {
          "base_uri": "https://localhost:8080/"
        },
        "id": "o5tDIA8LW2oY",
        "outputId": "8d450da1-30bb-468b-b5c0-550040b611da"
      },
      "source": [
        "#benign  is 1 in target so just sum\n",
        "benign=np.sum(original_dataset.target)\n",
        "print(\"Benign paricipants: \",benign)"
      ],
      "execution_count": null,
      "outputs": [
        {
          "output_type": "stream",
          "name": "stdout",
          "text": [
            "Benign paricipants:  357\n"
          ]
        }
      ]
    },
    {
      "cell_type": "markdown",
      "metadata": {
        "id": "YyqBEQXGq-B0"
      },
      "source": [
        "### Splitting the data\n",
        "It is best practice to have a training set (from which there is a rotating validation subset) and a test set. Our aim here is to (eventually) obtain the best accuracy we can on the test set (we'll do all our tuning on the training/validation sets, however.) \n",
        "\n",
        "**Split the dataset** into a train and a test set **\"70:30\"**, use **``random_state=0``**. The test set is set aside (untouched) for final evaluation, once hyperparameter optimization is complete. **[0.5]**"
      ]
    },
    {
      "cell_type": "code",
      "metadata": {
        "id": "6wd0a_GiYgao"
      },
      "source": [
        "from sklearn.model_selection import train_test_split\n",
        "X_train, X_test, y_train, y_test = train_test_split(original_dataset.data,original_dataset.target, test_size=0.3, random_state=0)"
      ],
      "execution_count": null,
      "outputs": []
    },
    {
      "cell_type": "markdown",
      "metadata": {
        "id": "U_jNtkfce9Eg"
      },
      "source": [
        "### Effect of Standardization (Visual)\n",
        "Use `seaborn.lmplot` ([help here](https://seaborn.pydata.org/generated/seaborn.lmplot.html)) to visualize a few features of the training set. Draw a plot where the x-axis is ``worst smoothness``, the y-axis is ``worst fractal dimension,`` and the color of each datapoint indicates its class.  **[0.5]**\n",
        "\n",
        "Standardizing the data is often critical in machine learning. Show a plot as above, but with two features with very different scales. Standardize the data and plot those features again. What's different? Based on your observation, what is the advantage of standardization? **[0.6]**\n",
        "\n",
        "\n"
      ]
    },
    {
      "cell_type": "markdown",
      "metadata": {
        "id": "o28En1SXbE92"
      },
      "source": [
        "Answer (code and results below): \n",
        "\n",
        "Objectively, the difference between the two plots is only the scaling on the x and y axis. Before normalization, the axis had very different values : \n",
        "- the x axis values were ranging from approx. 0  to 0.14 (and more)\n",
        "- the y axis values were ranging from approx. 40 to 180 (and more)\n",
        "\n",
        "One should note that the form of the graph is the same since the graphic scale for x axis is different than the one used for y axis. Plotting them on the same scale before standarization for x and y between 0 to 100 will give different results (see below the original plot). It is clear that the y axis 'dominates' the plot in this case. \n",
        "\n",
        "However after standardizing:\n",
        "- The x and y axis values range are nearly the same since all the features values have mean 0 and standard deviation of 1.\n",
        "\n",
        "As explained in the lecture, the feature with the higher values distribution (mean perimeter here) will have a considerable impact on the algorithm than the features with smaller values (compactness error here). Analogically, if a certain ML algorithm (knn for example) is used to predict the price of real estate in a certain country based on two features number of bedrooms (takes 1 digit number normally) and size of real estate in m^2 (2 to 3 digit numbers). If we do not normalize the algorithm will make its predictions based on the size feature.\n",
        "\n",
        "The advantage is that standarization allows all the features to have the same contribution in the training phase.\n",
        "The advantage of standardizing is that it enforces all the features to have the same contribution in the machine learning algorithm training and prediction. The KNN does not have any idea about the distribution of the data (an algorithm following steps), this is why it's better to standarize the data before proceeding with the algorithm."
      ]
    },
    {
      "cell_type": "code",
      "metadata": {
        "id": "J684emSV8mJd",
        "colab": {
          "base_uri": "https://localhost:8080/",
          "height": 403
        },
        "outputId": "db29fe3e-ae12-49ac-9869-b86f4397dbb7"
      },
      "source": [
        "#Draw a plot where the x-axis is ``worst smoothness``, the y-axis is ``worst fractal dimension,`` and the color of each datapoint indicates its class.\n",
        "import seaborn as sns\n",
        "sns.lmplot(x='worst smoothness',y='worst fractal dimension',data=df,hue='target').set(title='Worst smoothness vs Worst fractional dimension')"
      ],
      "execution_count": null,
      "outputs": [
        {
          "output_type": "execute_result",
          "data": {
            "text/plain": [
              "<seaborn.axisgrid.FacetGrid at 0x7f96d8c34750>"
            ]
          },
          "metadata": {},
          "execution_count": 99
        },
        {
          "output_type": "display_data",
          "data": {
            "image/png": "[encoded data removed]",
            "text/plain": [
              "<Figure size 402.375x360 with 1 Axes>"
            ]
          },
          "metadata": {
            "needs_background": "light"
          }
        }
      ]
    },
    {
      "cell_type": "code",
      "metadata": {
        "colab": {
          "base_uri": "https://localhost:8080/",
          "height": 403
        },
        "id": "HKvPfUmTY-9d",
        "outputId": "69d89eb5-3936-4b8f-a3aa-2675ac5cd1b7"
      },
      "source": [
        "#Show a plot as above, but with two features with very different scales. Standardize the data and plot those features againShow a plot as above, but with two features with very different scales.\n",
        "#Standardize the data and plot those features again\n",
        "#before \n",
        "sns.lmplot(x='compactness error',y='mean perimeter',data=df,hue='target').set(title='Compactness error  vs Mean perimeter (before standarization)')"
      ],
      "execution_count": null,
      "outputs": [
        {
          "output_type": "execute_result",
          "data": {
            "text/plain": [
              "<seaborn.axisgrid.FacetGrid at 0x7f96ddfa8c10>"
            ]
          },
          "metadata": {},
          "execution_count": 100
        },
        {
          "output_type": "display_data",
          "data": {
            "image/png": "[encoded data removed]",
            "text/plain": [
              "<Figure size 402.375x360 with 1 Axes>"
            ]
          },
          "metadata": {
            "needs_background": "light"
          }
        }
      ]
    },
    {
      "cell_type": "markdown",
      "metadata": {
        "id": "ulVObEBfQew4"
      },
      "source": [
        "if we draw on the same graph with x and y axis having the same scale"
      ]
    },
    {
      "cell_type": "code",
      "metadata": {
        "colab": {
          "base_uri": "https://localhost:8080/",
          "height": 403
        },
        "id": "cZNDp0ZTNGIa",
        "outputId": "a204a245-3fe0-40de-a196-2966fd5e0d62"
      },
      "source": [
        "\n",
        "p=sns.lmplot(x='compactness error',y='mean perimeter',data=df,hue='target').set(title='Compactness error vs Mean perimeter (Before Standarization)')\n",
        "p.set(xlim=(0, 100))\n",
        "p.set(ylim=(0, 100))\n"
      ],
      "execution_count": null,
      "outputs": [
        {
          "output_type": "execute_result",
          "data": {
            "text/plain": [
              "<seaborn.axisgrid.FacetGrid at 0x7f96d8b3f8d0>"
            ]
          },
          "metadata": {},
          "execution_count": 126
        },
        {
          "output_type": "display_data",
          "data": {
            "image/png": "[encoded data removed]",
            "text/plain": [
              "<Figure size 402.375x360 with 1 Axes>"
            ]
          },
          "metadata": {
            "needs_background": "light"
          }
        }
      ]
    },
    {
      "cell_type": "markdown",
      "metadata": {
        "id": "efJGEb--lsqP"
      },
      "source": [
        "Standarizing the data "
      ]
    },
    {
      "cell_type": "code",
      "metadata": {
        "colab": {
          "base_uri": "https://localhost:8080/",
          "height": 418
        },
        "id": "HIJ_q7FyZHvP",
        "outputId": "4b1fb435-2d45-4aab-9131-7caf68b4da69"
      },
      "source": [
        "#standarization process\n",
        "from sklearn.preprocessing import StandardScaler\n",
        "# normalize all the data \n",
        "normalized_col=StandardScaler().fit_transform(df[['compactness error','mean perimeter']])\n",
        "normalized_coldf=pd.DataFrame(normalized_col,columns=['normalized_compactness error','normalized_mean_perimeter'])\n",
        "#add the targets 0s and 1s\n",
        "normalized_coldf.insert(2, 'target', original_dataset.target)\n",
        "normalized_coldf"
      ],
      "execution_count": null,
      "outputs": [
        {
          "output_type": "execute_result",
          "data": {
            "text/html": [
              "<div>\n",
              "<style scoped>\n",
              "    .dataframe tbody tr th:only-of-type {\n",
              "        vertical-align: middle;\n",
              "    }\n",
              "\n",
              "    .dataframe tbody tr th {\n",
              "        vertical-align: top;\n",
              "    }\n",
              "\n",
              "    .dataframe thead th {\n",
              "        text-align: right;\n",
              "    }\n",
              "</style>\n",
              "<table border=\"1\" class=\"dataframe\">\n",
              "  <thead>\n",
              "    <tr style=\"text-align: right;\">\n",
              "      <th></th>\n",
              "      <th>normalized_compactness error</th>\n",
              "      <th>normalized_mean_perimeter</th>\n",
              "      <th>target</th>\n",
              "    </tr>\n",
              "  </thead>\n",
              "  <tbody>\n",
              "    <tr>\n",
              "      <th>0</th>\n",
              "      <td>1.316862</td>\n",
              "      <td>1.269934</td>\n",
              "      <td>0</td>\n",
              "    </tr>\n",
              "    <tr>\n",
              "      <th>1</th>\n",
              "      <td>-0.692926</td>\n",
              "      <td>1.685955</td>\n",
              "      <td>0</td>\n",
              "    </tr>\n",
              "    <tr>\n",
              "      <th>2</th>\n",
              "      <td>0.814974</td>\n",
              "      <td>1.566503</td>\n",
              "      <td>0</td>\n",
              "    </tr>\n",
              "    <tr>\n",
              "      <th>3</th>\n",
              "      <td>2.744280</td>\n",
              "      <td>-0.592687</td>\n",
              "      <td>0</td>\n",
              "    </tr>\n",
              "    <tr>\n",
              "      <th>4</th>\n",
              "      <td>-0.048520</td>\n",
              "      <td>1.776573</td>\n",
              "      <td>0</td>\n",
              "    </tr>\n",
              "    <tr>\n",
              "      <th>...</th>\n",
              "      <td>...</td>\n",
              "      <td>...</td>\n",
              "      <td>...</td>\n",
              "    </tr>\n",
              "    <tr>\n",
              "      <th>564</th>\n",
              "      <td>0.191805</td>\n",
              "      <td>2.060786</td>\n",
              "      <td>0</td>\n",
              "    </tr>\n",
              "    <tr>\n",
              "      <th>565</th>\n",
              "      <td>-0.069758</td>\n",
              "      <td>1.615931</td>\n",
              "      <td>0</td>\n",
              "    </tr>\n",
              "    <tr>\n",
              "      <th>566</th>\n",
              "      <td>0.661277</td>\n",
              "      <td>0.672676</td>\n",
              "      <td>0</td>\n",
              "    </tr>\n",
              "    <tr>\n",
              "      <th>567</th>\n",
              "      <td>2.017716</td>\n",
              "      <td>1.982524</td>\n",
              "      <td>0</td>\n",
              "    </tr>\n",
              "    <tr>\n",
              "      <th>568</th>\n",
              "      <td>-1.163516</td>\n",
              "      <td>-1.814389</td>\n",
              "      <td>1</td>\n",
              "    </tr>\n",
              "  </tbody>\n",
              "</table>\n",
              "<p>569 rows × 3 columns</p>\n",
              "</div>"
            ],
            "text/plain": [
              "     normalized_compactness error  normalized_mean_perimeter  target\n",
              "0                        1.316862                   1.269934       0\n",
              "1                       -0.692926                   1.685955       0\n",
              "2                        0.814974                   1.566503       0\n",
              "3                        2.744280                  -0.592687       0\n",
              "4                       -0.048520                   1.776573       0\n",
              "..                            ...                        ...     ...\n",
              "564                      0.191805                   2.060786       0\n",
              "565                     -0.069758                   1.615931       0\n",
              "566                      0.661277                   0.672676       0\n",
              "567                      2.017716                   1.982524       0\n",
              "568                     -1.163516                  -1.814389       1\n",
              "\n",
              "[569 rows x 3 columns]"
            ]
          },
          "metadata": {},
          "execution_count": 102
        }
      ]
    },
    {
      "cell_type": "markdown",
      "metadata": {
        "id": "eVvcATNxu_Vm"
      },
      "source": [
        "Our plot after standarization "
      ]
    },
    {
      "cell_type": "code",
      "metadata": {
        "colab": {
          "base_uri": "https://localhost:8080/",
          "height": 403
        },
        "id": "zhcFKw4AZU4O",
        "outputId": "655fe50e-5305-468b-b271-f0a290ec7d25"
      },
      "source": [
        "#After standarization \n",
        "sns.lmplot(x='normalized_compactness error',y='normalized_mean_perimeter',data=normalized_coldf,hue='target').set(title='Compactness error vs Mean perimeter (After Standarization)')"
      ],
      "execution_count": null,
      "outputs": [
        {
          "output_type": "execute_result",
          "data": {
            "text/plain": [
              "<seaborn.axisgrid.FacetGrid at 0x7f96d8b2f590>"
            ]
          },
          "metadata": {},
          "execution_count": 103
        },
        {
          "output_type": "display_data",
          "data": {
            "image/png": "[encoded data removed]",
            "text/plain": [
              "<Figure size 402.375x360 with 1 Axes>"
            ]
          },
          "metadata": {
            "needs_background": "light"
          }
        }
      ]
    },
    {
      "cell_type": "markdown",
      "metadata": {
        "id": "aBmo0-W1yZFs"
      },
      "source": [
        "## Part 2: KNN Classifier without Standardization [2 Marks]\n",
        "Normally, standardizing data is a key step in preparing data for a KNN classifier. However, for educational purposes, let's first try to build a model without standardization. Let's create a KNN classifier to predict whether a patient has a malignant or benign tumor. \n",
        "\n",
        "Follow these steps: \n",
        "\n",
        "1.   Train a KNN Classifier using cross-validation on the dataset. Sweep `k` (number of neighbours) from 1 to 100, and show a plot of the mean cross-validation accuracy vs `k`. \n",
        "\n",
        "Done in a loop in the function below.\n",
        "\n",
        "2.   What is the best `k`? What is the highest cross-validation accuracy?\n",
        "\n",
        "k=10 is the best k (and also k=11 give the same validation accuracy) corresponding to the highest cross-validation accuracy is 0.9346518987341772. We will take k=10  (not k=11) since it is more efficient (one less neighbor required -->less computations for the knn) \n",
        "\n",
        "3. Comment on  which ranges of `k` lead to underfitted or overfitted models (hint: compare training and validation curves!). \n",
        "(Check the graph below in the last three cells before part 3). \n",
        "\n",
        "- When k is between 1 and 10: we notice that the validation curve is below the training curve. The knn algorithm is doing well in in training but not in validation --> overfitting the data.\n",
        "\n",
        "- When k is large (between 73-75 and 100): we notice that the validation curve is fluctauating a little above the training curve. The knn algorithm is doing well in in validation but not as 'good' in the training --> slightly underfitting the data.\n",
        "\n",
        "\n"
      ]
    },
    {
      "cell_type": "code",
      "metadata": {
        "id": "cyEV-mVSAMaV",
        "colab": {
          "base_uri": "https://localhost:8080/"
        },
        "outputId": "48a73675-5a23-4623-f94d-f5ede2d684e4"
      },
      "source": [
        "#Question 1\n",
        "from sklearn.model_selection import cross_validate\n",
        "from sklearn.neighbors import KNeighborsClassifier\n",
        "from sklearn import neighbors\n",
        "def ktimes_knn(X_train,y_train):\n",
        " \n",
        "  temp=[]\n",
        "  temp2=[]\n",
        "  for k in range(1,101):\n",
        "    knn = neighbors.KNeighborsClassifier(n_neighbors=k)\n",
        "    scores = cross_validate(knn, X_train, y_train, cv=5,return_train_score=True)\n",
        "    train_acc=scores['train_score'].mean()\n",
        "    val_acc= scores['test_score'].mean()\n",
        "    temp.append(val_acc)\n",
        "    temp2.append(train_acc)\n",
        "  \n",
        "  maxsofar=temp[0]\n",
        "  for i in range(0,len(temp)):\n",
        "    #find the maximum k \n",
        "    if(temp[i]>maxsofar):\n",
        "      maxsofar=temp[i]\n",
        "  bestk=temp.index(maxsofar)+1\n",
        "  return temp,temp2,maxsofar,bestk\n",
        "\n",
        "validation_accuracies,training_accuracies,maxsofar_original,bestk=ktimes_knn(X_train,y_train)\n",
        "print(\"Validation accuracy: \",validation_accuracies)\n",
        "print(\"Training accuracy: \",training_accuracies)\n",
        "print(\"The highest cross validation accuracy is:\",maxsofar_original)\n",
        "print(\"The first best k corresponding to the highest cross validation accuracy is:\",bestk)"
      ],
      "execution_count": null,
      "outputs": [
        {
          "output_type": "stream",
          "name": "stdout",
          "text": [
            "Validation accuracy:  [0.9171202531645569, 0.9170886075949367, 0.9272151898734178, 0.927120253164557, 0.919620253164557, 0.9246518987341773, 0.9321518987341773, 0.9321518987341773, 0.9246202531645569, 0.9346518987341772, 0.9346518987341772, 0.9321202531645569, 0.9221518987341772, 0.9296835443037976, 0.9221518987341772, 0.9246202531645569, 0.9120569620253164, 0.9195886075949368, 0.9120886075949368, 0.9145886075949367, 0.9070253164556963, 0.9095253164556961, 0.9070569620253165, 0.9070253164556961, 0.9045253164556962, 0.9095569620253163, 0.9095569620253163, 0.9095569620253163, 0.9095569620253163, 0.9095569620253163, 0.9045569620253164, 0.9070569620253165, 0.9070569620253165, 0.9095569620253166, 0.9095569620253166, 0.9070569620253164, 0.9070569620253165, 0.9095569620253166, 0.9095569620253166, 0.9095569620253166, 0.9070569620253165, 0.9095569620253166, 0.9095569620253166, 0.9095569620253166, 0.9020569620253165, 0.9070569620253165, 0.9020253164556962, 0.9095569620253166, 0.9045569620253164, 0.9070569620253164, 0.9070886075949367, 0.9070569620253165, 0.9020253164556962, 0.9020253164556962, 0.9020253164556962, 0.9020253164556962, 0.9020569620253165, 0.9020253164556962, 0.9045569620253164, 0.9045569620253164, 0.9020569620253165, 0.9020253164556962, 0.9045569620253164, 0.9045569620253164, 0.9020253164556962, 0.9045569620253164, 0.9045569620253164, 0.9045569620253164, 0.9020253164556962, 0.9045569620253164, 0.9020253164556962, 0.9020253164556962, 0.8994936708860759, 0.8994936708860759, 0.8994936708860759, 0.8994936708860759, 0.9020253164556962, 0.9020253164556962, 0.8944936708860759, 0.896993670886076, 0.896993670886076, 0.896993670886076, 0.8944936708860759, 0.896993670886076, 0.8919620253164556, 0.896993670886076, 0.8919620253164556, 0.8944620253164557, 0.8919620253164556, 0.8944620253164557, 0.8919620253164556, 0.8944620253164557, 0.8944620253164557, 0.8944620253164557, 0.8894620253164556, 0.8944620253164557, 0.8869303797468355, 0.8869303797468355, 0.8869303797468355, 0.8894303797468355]\n",
            "Training accuracy:  [1.0, 0.9629403994400743, 0.9503795272175232, 0.943467202933696, 0.9371857810374401, 0.9378107687151278, 0.9365548786498689, 0.9365548786498689, 0.9315293468188719, 0.9340391553794287, 0.9302675420437294, 0.9315254036789495, 0.9296445259360029, 0.9315273752489107, 0.9271347173754461, 0.9277616766230949, 0.92022436466158, 0.92085329547919, 0.917712584531062, 0.9177125845310622, 0.914569902012973, 0.917712584531062, 0.9120620650223772, 0.9114331342047672, 0.9114331342047673, 0.9108042033871572, 0.9095502848918594, 0.9114331342047673, 0.9108101180970408, 0.9101811872794308, 0.9101792157094695, 0.9095483133218982, 0.9114351057747283, 0.9133199266575975, 0.9108061749571184, 0.909546341751937, 0.9076615208690682, 0.9101752725695471, 0.9076634924390292, 0.9082904516866781, 0.9082904516866781, 0.908288480116717, 0.9045188383509789, 0.907659549299107, 0.905147769168589, 0.907659549299107, 0.90514974073855, 0.9064076023737704, 0.9064036592338478, 0.906405630803809, 0.9057766999861989, 0.9057766999861991, 0.9057766999861989, 0.9070345616214193, 0.9032668914256423, 0.9051517123085114, 0.9038958222432523, 0.9045227814909012, 0.9032668914256423, 0.9038938506732912, 0.9026379606080323, 0.9038958222432523, 0.9020110013603834, 0.9038977938132137, 0.9013840421127345, 0.9026399321779934, 0.9001261804775144, 0.9007551112951244, 0.9007531397251632, 0.9001261804775144, 0.9013820705427733, 0.9013820705427733, 0.9001261804775142, 0.9001261804775142, 0.8976104572070739, 0.8976124287770351, 0.8976124287770352, 0.8982413595946452, 0.8963565387117761, 0.896983497959425, 0.8957295794641272, 0.8963565387117761, 0.8951006486465172, 0.8957276078941661, 0.8944717178289071, 0.895098677076556, 0.8932138561936871, 0.893842787011297, 0.8919579661284281, 0.893842787011297, 0.8913290353108181, 0.8913290353108181, 0.8907020760631692, 0.8913310068807793, 0.8913310068807793, 0.8913329784507404, 0.8900770883854815, 0.8907040476331304, 0.8881942390725734, 0.8881942390725734]\n",
            "The highest cross validation accuracy is: 0.9346518987341772\n",
            "The first best k corresponding to the highest cross validation accuracy is: 10\n"
          ]
        }
      ]
    },
    {
      "cell_type": "code",
      "metadata": {
        "colab": {
          "base_uri": "https://localhost:8080/",
          "height": 279
        },
        "id": "rDhwVOzOalyA",
        "outputId": "20a3b551-5732-4908-d5f8-62e3860760f8"
      },
      "source": [
        "import matplotlib.pyplot as plt\n",
        "\n",
        "x=np.linspace(1,len(validation_accuracies),len(validation_accuracies))\n",
        "plt.xlabel('k values')\n",
        "plt.ylabel('Mean validation accuracy')\n",
        "plt.plot(x,validation_accuracies)\n",
        "  \n",
        "plt.show()    \n"
      ],
      "execution_count": null,
      "outputs": [
        {
          "output_type": "display_data",
          "data": {
            "image/png": "[encoded data removed]",
            "text/plain": [
              "<Figure size 432x288 with 1 Axes>"
            ]
          },
          "metadata": {
            "needs_background": "light"
          }
        }
      ]
    },
    {
      "cell_type": "code",
      "metadata": {
        "colab": {
          "base_uri": "https://localhost:8080/",
          "height": 295
        },
        "id": "75NUFYfXay1l",
        "outputId": "d8aeb6bc-7901-45de-ad1e-2ff7d6a97ebb"
      },
      "source": [
        "#question 3 Comment on which ranges of k lead to underfitted or overfitted models (hint: compare training and validation curves!).\n",
        "\n",
        "loss_train = training_accuracies\n",
        "loss_val = validation_accuracies\n",
        "x=np.linspace(1,len(validation_accuracies),len(validation_accuracies))\n",
        "plt.xlabel('k value')\n",
        "plt.ylabel('Training and validation accuracy')\n",
        "plt.plot(x, loss_train, 'g', label='Training loss')\n",
        "plt.plot(x, loss_val, 'b', label='validation loss')\n",
        "plt.title('Training and Validation loss')\n",
        "plt.xlabel('k value')\n",
        "plt.ylabel('Training and validation accuracy')\n",
        "plt.legend()\n",
        "plt.show()"
      ],
      "execution_count": null,
      "outputs": [
        {
          "output_type": "display_data",
          "data": {
            "image/png": "[encoded data removed]",
            "text/plain": [
              "<Figure size 432x288 with 1 Axes>"
            ]
          },
          "metadata": {
            "needs_background": "light"
          }
        }
      ]
    },
    {
      "cell_type": "code",
      "metadata": {
        "colab": {
          "base_uri": "https://localhost:8080/",
          "height": 295
        },
        "id": "0AvM7iNb-dfu",
        "outputId": "b8f24238-c39f-4cc7-d644-4a9ed80da41e"
      },
      "source": [
        "# between k=1 and k=12\n",
        "loss_train = training_accuracies\n",
        "loss_val = validation_accuracies\n",
        "x=np.linspace(1,len(validation_accuracies),len(validation_accuracies))\n",
        "plt.xlabel('k value')\n",
        "plt.ylabel('Training and validation accuracy')\n",
        "plt.plot(x, loss_train, 'g', label='Training loss')\n",
        "plt.plot(x, loss_val, 'b', label='validation loss')\n",
        "plt.title('Training and Validation loss')\n",
        "plt.xlabel('k value')\n",
        "plt.ylabel('Training and validation accuracy')\n",
        "plt.xlim(0,12)\n",
        "plt.legend()\n",
        "plt.show()"
      ],
      "execution_count": null,
      "outputs": [
        {
          "output_type": "display_data",
          "data": {
            "image/png": "[encoded data removed]",
            "text/plain": [
              "<Figure size 432x288 with 1 Axes>"
            ]
          },
          "metadata": {
            "needs_background": "light"
          }
        }
      ]
    },
    {
      "cell_type": "code",
      "metadata": {
        "colab": {
          "base_uri": "https://localhost:8080/",
          "height": 295
        },
        "id": "qYLU-jzADVrw",
        "outputId": "d88f0847-19f3-4799-f5fd-84e9927cfb09"
      },
      "source": [
        "# between k=70 and k=100\n",
        "loss_train = training_accuracies\n",
        "loss_val = validation_accuracies\n",
        "x=np.linspace(1,len(training_accuracies),len(training_accuracies))\n",
        "plt.xlabel('k value')\n",
        "plt.ylabel('Training and validation accuracy')\n",
        "plt.plot(x, loss_train, 'g', label='Training loss')\n",
        "plt.plot(x, loss_val, 'b', label='validation loss')\n",
        "plt.title('Training and Validation loss')\n",
        "plt.xlabel('k value')\n",
        "plt.ylabel('Training and validation accuracy')\n",
        "plt.xlim(70,len(training_accuracies))\n",
        "plt.legend()\n",
        "plt.show()"
      ],
      "execution_count": null,
      "outputs": [
        {
          "output_type": "display_data",
          "data": {
            "image/png": "[encoded data removed]",
            "text/plain": [
              "<Figure size 432x288 with 1 Axes>"
            ]
          },
          "metadata": {
            "needs_background": "light"
          }
        }
      ]
    },
    {
      "cell_type": "markdown",
      "metadata": {
        "id": "VCyFm5S3srCO"
      },
      "source": [
        "## Part 3: Feature Selection [4 Marks]\n",
        "In this part, we aim to investigate the importance of each feature on the final classification accuracy. \n",
        "If we want to try every possible combination of features, we would have to test  $2^F$ different cases,  where F is the number of features, and in each case, we have to do a hyperparameter search (finding K, in KNN using cross-validation). That will take days!. \n",
        "\n",
        "To find more important features we will use a decision tree. based on a decision tree we can compute feature importance that is a metric for our feature selection (code is provided below).\n",
        "\n",
        "You can use the following link to get familiar with extracting the feature impotance order of machine learning algorithms in Python: \n",
        "\n",
        "https://machinelearningmastery.com/calculate-feature-importance-with-python/\n",
        "\n",
        "After we identified and removed the least important feature and evaluated a new KNN model on the new set of features, if the stop conditions (see step 7 below) are not met, we need to remove another feature. To do that we fit a new decision tree to the remaining features and identify the least important feature. \n",
        "\n",
        "\n",
        "Design a function ( `Feature_selector`) that accepts your dataset (X_train , y_train) and a threshold as inputs and: **[3]**\n",
        "1. Fits a decision tree classifier on the training set.\n",
        "\n",
        "2. Extracts the feature importance order of the decision tree model.\n",
        "\n",
        "3. Each time, removes the least important feature based on step 2. \n",
        "4. Then, a KNN model is trained on the remaining features. The number of neighbors (`k`) for each KNN model should be tuned using a 5-fold cross-validation.\n",
        "5. Store the best `mean cross-validation` score and the corresponding `k` (number of neighbours) value in two lists.\n",
        "6. Go back to step 1, fit a new tree on the reduced dataset and follow all the steps until you meet the stop condition. \n",
        " \n",
        "7. We will stop this process when (1) there is only one feature left, or (2) our cross-validation accuracy is dropped significantly compared to a model that uses all the features. In this function, we accept a threshold as an input argument. For example, if threshold=0.95 we do not continue removing features if our mean cross-validation accuracy after tuning `k` is bellow **0.95 $\\times$ Full Feature cross-validation accuracy**.\n",
        "\n",
        "8. Your function returns the list of removed features, and the corresponding mean cross-validation accuracy and `k` value when a feature was removed.\n",
        "\n",
        "* Visualize your results by plotting the mean cross-validation accuracy (with a tuned `k` on y axis) vs. the number of features (x axis). This plot describes: what is the best cv score with 1 feature, 2 features, 3 features ... and all the features. **[0.5]**\n",
        "\n",
        "* Plot the best value of `k` (y-axis) vs. the number of features. This plot explains the trend of number of neighbours with respect to the number of features.  **[0.5]**\n",
        "\n",
        "  \n",
        "  \n",
        "\n",
        "\n",
        "\n",
        "\n",
        "\n",
        "\n",
        "\n",
        " "
      ]
    },
    {
      "cell_type": "markdown",
      "metadata": {
        "id": "LPcG6_UIdAaT"
      },
      "source": [
        "You can use the following piece of code to start training a decision tree classifier and obtain its feature importance order. \n",
        "```\n",
        "from sklearn import tree\n",
        "dt = tree.DecisionTreeClassifier()\n",
        "dt.fit(X_train,y_train)\n",
        "importance = dt.feature_importances_\n",
        "```\n"
      ]
    },
    {
      "cell_type": "markdown",
      "metadata": {
        "id": "LXu9mv69iS95"
      },
      "source": [
        "This part will include the functions that will be called and used in our main function Feature_selector "
      ]
    },
    {
      "cell_type": "code",
      "metadata": {
        "id": "UF1SoON6ijau"
      },
      "source": [
        "from sklearn import tree\n",
        "\n",
        "#finding the minimum and its index in a list of arrays: [(x,y),(z,w)] it will be used for finding the least important feature and its index\n",
        "#there is more efficient way using argmin but I forgot to use it so I continued the code in this way\n",
        "def finmin(l):\n",
        "  mini=l[0][0]\n",
        "  temp=0\n",
        "  for i in range(0,len(l)):\n",
        "    if l[i][0]<mini:\n",
        "      mini=l[i][0]\n",
        "      temp=i\n",
        "  return mini,temp\n",
        "\n",
        "# 1.Simple Function fitting a decision tree classifier on the training set\n",
        "def fitdecisiontree(X_train,y_train):\n",
        "  dt = tree.DecisionTreeClassifier(random_state=0)\n",
        "  dt.fit(X_train,y_train)\n",
        "  importance = dt.feature_importances_\n",
        "  return importance \n",
        "\n",
        "# 2. Extracts the feature importance order of the decision tree model \n",
        "# enumerate() returns a tuple with the counter and value, so you don't have to increment the counter yourself.\n",
        "def featureimportance(X_train,y_train):\n",
        "  importance=fitdecisiontree(X_train,y_train)\n",
        "  list_=[]\n",
        "  for i,v in enumerate(importance):\n",
        "    store=(v,i)\n",
        "    list_.append(store)\n",
        "  return list_,importance\n",
        "\n",
        "# 3. the least important feature based on step 2.\n",
        "def removeleast(X_train,y_train):\n",
        "  list_,imp=featureimportance(X_train,y_train)\n",
        "  leastimportance,featurenumber=finmin(list_) \n",
        "  return featurenumber\n",
        "\n",
        "# 4.Then, a KNN model is trained on the remaining features. The number of neighbors (`k`) for each KNN model should be tuned using a 5-fold cross-validation\n",
        "\n",
        "\n",
        "#Function returning the target of the original dataset. This number will be always used since y_train is not changing\n",
        "def returntarget():\n",
        "  return original_dataset.target\n",
        "\n",
        "\n",
        "#fitting the knn 100 times and returning the best cross validation value and its corresponding k \n",
        "def trainnewknn(X_train,y_train):\n",
        "  temp1,temp2,maxsofar2,bestk=ktimes_knn(X_train,y_train)\n",
        "  return maxsofar2,bestk\n"
      ],
      "execution_count": null,
      "outputs": []
    },
    {
      "cell_type": "markdown",
      "metadata": {
        "id": "bCyScpxAjI7Q"
      },
      "source": [
        "Now let's implement step 1 to step 7 all in our main Feature_selector function  here"
      ]
    },
    {
      "cell_type": "code",
      "metadata": {
        "id": "oiFUWWnE0QVc"
      },
      "source": [
        "def Feature_selector (X_train , y_train , tr=0.95):\n",
        "  # the initial lists that will append\n",
        "  removed_features=[]\n",
        "  best_meancrossval=[]\n",
        "  bestklist=[] \n",
        "\n",
        "  # the features names of our dataset we will use it to know the least important removed features \n",
        "  feature_n=original_dataset.feature_names.copy()\n",
        "\n",
        "  #Full cross validation accuracy on original after tuning k\n",
        "  maxsofar_original,bestk_original=trainnewknn(X_train,y_train)\n",
        "  best_meancrossval.append(maxsofar_original)\n",
        "  bestklist.append(bestk_original)\n",
        "\n",
        "  #initialize maxsofar to whatever value >1 to be able to use it in the while loop condition \n",
        "  maxsofar=1\n",
        "\n",
        "  while X_train.shape[1]>1 and maxsofar>tr*maxsofar_original:\n",
        "\n",
        "    featurenumber=removeleast(X_train,y_train)\n",
        "    removed_features.append(feature_n[featurenumber])\n",
        "    feature_n=np.delete(feature_n,featurenumber,0)\n",
        "    X_train=np.delete(X_train, featurenumber, axis=1)\n",
        "    maxsofar,bestk=trainnewknn(X_train,y_train)\n",
        "    best_meancrossval.append(maxsofar)\n",
        "    bestklist.append(bestk)\n",
        "    \n",
        "  \n",
        "  #return list removed features, and the corresponding mean cross-validation accuracy and k value when a feature was removed.\n",
        "  return removed_features,best_meancrossval,bestklist\n",
        "\n"
      ],
      "execution_count": null,
      "outputs": []
    },
    {
      "cell_type": "code",
      "metadata": {
        "colab": {
          "base_uri": "https://localhost:8080/"
        },
        "id": "YxqfPjogofVG",
        "outputId": "419037c1-e793-4a1a-e73b-52ce44ff42e7"
      },
      "source": [
        "removed_features,best_meancrossval,bestklist=Feature_selector (X_train , y_train ,0.95)\n",
        "print(\"The list of the removed features: \",removed_features)\n",
        "print(\"The best mean cross-validation accuracy after removing each feature: \",best_meancrossval)\n",
        "print(\"Best k values (highest validation) when a feature was removed: \",bestklist)"
      ],
      "execution_count": null,
      "outputs": [
        {
          "output_type": "stream",
          "name": "stdout",
          "text": [
            "The list of the removed features:  ['mean radius', 'mean texture', 'mean area', 'mean smoothness', 'mean compactness', 'mean perimeter', 'mean concavity', 'mean concave points', 'mean fractal dimension', 'texture error', 'perimeter error', 'compactness error', 'concavity error', 'smoothness error', 'concave points error', 'symmetry error', 'worst perimeter', 'worst smoothness', 'worst fractal dimension', 'worst radius', 'fractal dimension error', 'radius error', 'worst compactness', 'worst texture', 'mean symmetry', 'worst symmetry', 'worst concavity', 'area error', 'worst area']\n",
            "The best mean cross-validation accuracy after removing each feature:  [0.9346518987341772, 0.9346518987341772, 0.9346518987341772, 0.9145886075949367, 0.9145886075949367, 0.9145886075949367, 0.9145886075949367, 0.9145886075949367, 0.9145886075949367, 0.9145886075949367, 0.9145886075949367, 0.9145886075949367, 0.9145886075949367, 0.9145886075949367, 0.9145886075949367, 0.9145886075949367, 0.9145886075949367, 0.9145569620253164, 0.9145569620253164, 0.9145569620253164, 0.9145569620253164, 0.9145569620253164, 0.9145569620253164, 0.9145569620253164, 0.9145569620253164, 0.9145569620253164, 0.9145569620253164, 0.9145569620253164, 0.9145886075949367, 0.9246202531645569]\n",
            "Best k values (highest validation) when a feature was removed:  [10, 10, 10, 34, 34, 34, 34, 34, 34, 34, 34, 34, 34, 34, 34, 34, 34, 61, 61, 61, 61, 61, 61, 61, 64, 64, 64, 64, 34, 34]\n"
          ]
        }
      ]
    },
    {
      "cell_type": "markdown",
      "metadata": {
        "id": "yToWO0nLoryh"
      },
      "source": [
        "Arranging them in a dataframe for better visualization"
      ]
    },
    {
      "cell_type": "code",
      "metadata": {
        "colab": {
          "base_uri": "https://localhost:8080/",
          "height": 945
        },
        "id": "AVUhtc4Lpord",
        "outputId": "8529e063-d62e-4f8e-8fee-ecc900a992d7"
      },
      "source": [
        "removed_features_df=pd.DataFrame(np.array(removed_features),columns=['Dropped least important features from X_train after each iteration'])\n",
        "removed_features_df"
      ],
      "execution_count": null,
      "outputs": [
        {
          "output_type": "execute_result",
          "data": {
            "text/html": [
              "<div>\n",
              "<style scoped>\n",
              "    .dataframe tbody tr th:only-of-type {\n",
              "        vertical-align: middle;\n",
              "    }\n",
              "\n",
              "    .dataframe tbody tr th {\n",
              "        vertical-align: top;\n",
              "    }\n",
              "\n",
              "    .dataframe thead th {\n",
              "        text-align: right;\n",
              "    }\n",
              "</style>\n",
              "<table border=\"1\" class=\"dataframe\">\n",
              "  <thead>\n",
              "    <tr style=\"text-align: right;\">\n",
              "      <th></th>\n",
              "      <th>Dropped least important features from X_train after each iteration</th>\n",
              "    </tr>\n",
              "  </thead>\n",
              "  <tbody>\n",
              "    <tr>\n",
              "      <th>0</th>\n",
              "      <td>mean radius</td>\n",
              "    </tr>\n",
              "    <tr>\n",
              "      <th>1</th>\n",
              "      <td>mean texture</td>\n",
              "    </tr>\n",
              "    <tr>\n",
              "      <th>2</th>\n",
              "      <td>mean area</td>\n",
              "    </tr>\n",
              "    <tr>\n",
              "      <th>3</th>\n",
              "      <td>mean smoothness</td>\n",
              "    </tr>\n",
              "    <tr>\n",
              "      <th>4</th>\n",
              "      <td>mean compactness</td>\n",
              "    </tr>\n",
              "    <tr>\n",
              "      <th>5</th>\n",
              "      <td>mean perimeter</td>\n",
              "    </tr>\n",
              "    <tr>\n",
              "      <th>6</th>\n",
              "      <td>mean concavity</td>\n",
              "    </tr>\n",
              "    <tr>\n",
              "      <th>7</th>\n",
              "      <td>mean concave points</td>\n",
              "    </tr>\n",
              "    <tr>\n",
              "      <th>8</th>\n",
              "      <td>mean fractal dimension</td>\n",
              "    </tr>\n",
              "    <tr>\n",
              "      <th>9</th>\n",
              "      <td>texture error</td>\n",
              "    </tr>\n",
              "    <tr>\n",
              "      <th>10</th>\n",
              "      <td>perimeter error</td>\n",
              "    </tr>\n",
              "    <tr>\n",
              "      <th>11</th>\n",
              "      <td>compactness error</td>\n",
              "    </tr>\n",
              "    <tr>\n",
              "      <th>12</th>\n",
              "      <td>concavity error</td>\n",
              "    </tr>\n",
              "    <tr>\n",
              "      <th>13</th>\n",
              "      <td>smoothness error</td>\n",
              "    </tr>\n",
              "    <tr>\n",
              "      <th>14</th>\n",
              "      <td>concave points error</td>\n",
              "    </tr>\n",
              "    <tr>\n",
              "      <th>15</th>\n",
              "      <td>symmetry error</td>\n",
              "    </tr>\n",
              "    <tr>\n",
              "      <th>16</th>\n",
              "      <td>worst perimeter</td>\n",
              "    </tr>\n",
              "    <tr>\n",
              "      <th>17</th>\n",
              "      <td>worst smoothness</td>\n",
              "    </tr>\n",
              "    <tr>\n",
              "      <th>18</th>\n",
              "      <td>worst fractal dimension</td>\n",
              "    </tr>\n",
              "    <tr>\n",
              "      <th>19</th>\n",
              "      <td>worst radius</td>\n",
              "    </tr>\n",
              "    <tr>\n",
              "      <th>20</th>\n",
              "      <td>fractal dimension error</td>\n",
              "    </tr>\n",
              "    <tr>\n",
              "      <th>21</th>\n",
              "      <td>radius error</td>\n",
              "    </tr>\n",
              "    <tr>\n",
              "      <th>22</th>\n",
              "      <td>worst compactness</td>\n",
              "    </tr>\n",
              "    <tr>\n",
              "      <th>23</th>\n",
              "      <td>worst texture</td>\n",
              "    </tr>\n",
              "    <tr>\n",
              "      <th>24</th>\n",
              "      <td>mean symmetry</td>\n",
              "    </tr>\n",
              "    <tr>\n",
              "      <th>25</th>\n",
              "      <td>worst symmetry</td>\n",
              "    </tr>\n",
              "    <tr>\n",
              "      <th>26</th>\n",
              "      <td>worst concavity</td>\n",
              "    </tr>\n",
              "    <tr>\n",
              "      <th>27</th>\n",
              "      <td>area error</td>\n",
              "    </tr>\n",
              "    <tr>\n",
              "      <th>28</th>\n",
              "      <td>worst area</td>\n",
              "    </tr>\n",
              "  </tbody>\n",
              "</table>\n",
              "</div>"
            ],
            "text/plain": [
              "   Dropped least important features from X_train after each iteration\n",
              "0                                         mean radius                \n",
              "1                                        mean texture                \n",
              "2                                           mean area                \n",
              "3                                     mean smoothness                \n",
              "4                                    mean compactness                \n",
              "5                                      mean perimeter                \n",
              "6                                      mean concavity                \n",
              "7                                 mean concave points                \n",
              "8                              mean fractal dimension                \n",
              "9                                       texture error                \n",
              "10                                    perimeter error                \n",
              "11                                  compactness error                \n",
              "12                                    concavity error                \n",
              "13                                   smoothness error                \n",
              "14                               concave points error                \n",
              "15                                     symmetry error                \n",
              "16                                    worst perimeter                \n",
              "17                                   worst smoothness                \n",
              "18                            worst fractal dimension                \n",
              "19                                       worst radius                \n",
              "20                            fractal dimension error                \n",
              "21                                       radius error                \n",
              "22                                  worst compactness                \n",
              "23                                      worst texture                \n",
              "24                                      mean symmetry                \n",
              "25                                     worst symmetry                \n",
              "26                                    worst concavity                \n",
              "27                                         area error                \n",
              "28                                         worst area                "
            ]
          },
          "metadata": {},
          "execution_count": 112
        }
      ]
    },
    {
      "cell_type": "code",
      "metadata": {
        "colab": {
          "base_uri": "https://localhost:8080/",
          "height": 976
        },
        "id": "r5RlC12Vp8EH",
        "outputId": "10fab71c-835b-452a-bbf6-cd33a619100a"
      },
      "source": [
        "bestvalandkdf=pd.DataFrame(np.concatenate((np.array(best_meancrossval).reshape(-1,1), np.array(bestklist).reshape(-1,1)), axis=1),columns=['Best mean cross-validation accuracy','Corresponding first k value'])\n",
        "bestvalandkdf"
      ],
      "execution_count": null,
      "outputs": [
        {
          "output_type": "execute_result",
          "data": {
            "text/html": [
              "<div>\n",
              "<style scoped>\n",
              "    .dataframe tbody tr th:only-of-type {\n",
              "        vertical-align: middle;\n",
              "    }\n",
              "\n",
              "    .dataframe tbody tr th {\n",
              "        vertical-align: top;\n",
              "    }\n",
              "\n",
              "    .dataframe thead th {\n",
              "        text-align: right;\n",
              "    }\n",
              "</style>\n",
              "<table border=\"1\" class=\"dataframe\">\n",
              "  <thead>\n",
              "    <tr style=\"text-align: right;\">\n",
              "      <th></th>\n",
              "      <th>Best mean cross-validation accuracy</th>\n",
              "      <th>Corresponding first k value</th>\n",
              "    </tr>\n",
              "  </thead>\n",
              "  <tbody>\n",
              "    <tr>\n",
              "      <th>0</th>\n",
              "      <td>0.934652</td>\n",
              "      <td>10.0</td>\n",
              "    </tr>\n",
              "    <tr>\n",
              "      <th>1</th>\n",
              "      <td>0.934652</td>\n",
              "      <td>10.0</td>\n",
              "    </tr>\n",
              "    <tr>\n",
              "      <th>2</th>\n",
              "      <td>0.934652</td>\n",
              "      <td>10.0</td>\n",
              "    </tr>\n",
              "    <tr>\n",
              "      <th>3</th>\n",
              "      <td>0.914589</td>\n",
              "      <td>34.0</td>\n",
              "    </tr>\n",
              "    <tr>\n",
              "      <th>4</th>\n",
              "      <td>0.914589</td>\n",
              "      <td>34.0</td>\n",
              "    </tr>\n",
              "    <tr>\n",
              "      <th>5</th>\n",
              "      <td>0.914589</td>\n",
              "      <td>34.0</td>\n",
              "    </tr>\n",
              "    <tr>\n",
              "      <th>6</th>\n",
              "      <td>0.914589</td>\n",
              "      <td>34.0</td>\n",
              "    </tr>\n",
              "    <tr>\n",
              "      <th>7</th>\n",
              "      <td>0.914589</td>\n",
              "      <td>34.0</td>\n",
              "    </tr>\n",
              "    <tr>\n",
              "      <th>8</th>\n",
              "      <td>0.914589</td>\n",
              "      <td>34.0</td>\n",
              "    </tr>\n",
              "    <tr>\n",
              "      <th>9</th>\n",
              "      <td>0.914589</td>\n",
              "      <td>34.0</td>\n",
              "    </tr>\n",
              "    <tr>\n",
              "      <th>10</th>\n",
              "      <td>0.914589</td>\n",
              "      <td>34.0</td>\n",
              "    </tr>\n",
              "    <tr>\n",
              "      <th>11</th>\n",
              "      <td>0.914589</td>\n",
              "      <td>34.0</td>\n",
              "    </tr>\n",
              "    <tr>\n",
              "      <th>12</th>\n",
              "      <td>0.914589</td>\n",
              "      <td>34.0</td>\n",
              "    </tr>\n",
              "    <tr>\n",
              "      <th>13</th>\n",
              "      <td>0.914589</td>\n",
              "      <td>34.0</td>\n",
              "    </tr>\n",
              "    <tr>\n",
              "      <th>14</th>\n",
              "      <td>0.914589</td>\n",
              "      <td>34.0</td>\n",
              "    </tr>\n",
              "    <tr>\n",
              "      <th>15</th>\n",
              "      <td>0.914589</td>\n",
              "      <td>34.0</td>\n",
              "    </tr>\n",
              "    <tr>\n",
              "      <th>16</th>\n",
              "      <td>0.914589</td>\n",
              "      <td>34.0</td>\n",
              "    </tr>\n",
              "    <tr>\n",
              "      <th>17</th>\n",
              "      <td>0.914557</td>\n",
              "      <td>61.0</td>\n",
              "    </tr>\n",
              "    <tr>\n",
              "      <th>18</th>\n",
              "      <td>0.914557</td>\n",
              "      <td>61.0</td>\n",
              "    </tr>\n",
              "    <tr>\n",
              "      <th>19</th>\n",
              "      <td>0.914557</td>\n",
              "      <td>61.0</td>\n",
              "    </tr>\n",
              "    <tr>\n",
              "      <th>20</th>\n",
              "      <td>0.914557</td>\n",
              "      <td>61.0</td>\n",
              "    </tr>\n",
              "    <tr>\n",
              "      <th>21</th>\n",
              "      <td>0.914557</td>\n",
              "      <td>61.0</td>\n",
              "    </tr>\n",
              "    <tr>\n",
              "      <th>22</th>\n",
              "      <td>0.914557</td>\n",
              "      <td>61.0</td>\n",
              "    </tr>\n",
              "    <tr>\n",
              "      <th>23</th>\n",
              "      <td>0.914557</td>\n",
              "      <td>61.0</td>\n",
              "    </tr>\n",
              "    <tr>\n",
              "      <th>24</th>\n",
              "      <td>0.914557</td>\n",
              "      <td>64.0</td>\n",
              "    </tr>\n",
              "    <tr>\n",
              "      <th>25</th>\n",
              "      <td>0.914557</td>\n",
              "      <td>64.0</td>\n",
              "    </tr>\n",
              "    <tr>\n",
              "      <th>26</th>\n",
              "      <td>0.914557</td>\n",
              "      <td>64.0</td>\n",
              "    </tr>\n",
              "    <tr>\n",
              "      <th>27</th>\n",
              "      <td>0.914557</td>\n",
              "      <td>64.0</td>\n",
              "    </tr>\n",
              "    <tr>\n",
              "      <th>28</th>\n",
              "      <td>0.914589</td>\n",
              "      <td>34.0</td>\n",
              "    </tr>\n",
              "    <tr>\n",
              "      <th>29</th>\n",
              "      <td>0.924620</td>\n",
              "      <td>34.0</td>\n",
              "    </tr>\n",
              "  </tbody>\n",
              "</table>\n",
              "</div>"
            ],
            "text/plain": [
              "    Best mean cross-validation accuracy  Corresponding first k value\n",
              "0                              0.934652                         10.0\n",
              "1                              0.934652                         10.0\n",
              "2                              0.934652                         10.0\n",
              "3                              0.914589                         34.0\n",
              "4                              0.914589                         34.0\n",
              "5                              0.914589                         34.0\n",
              "6                              0.914589                         34.0\n",
              "7                              0.914589                         34.0\n",
              "8                              0.914589                         34.0\n",
              "9                              0.914589                         34.0\n",
              "10                             0.914589                         34.0\n",
              "11                             0.914589                         34.0\n",
              "12                             0.914589                         34.0\n",
              "13                             0.914589                         34.0\n",
              "14                             0.914589                         34.0\n",
              "15                             0.914589                         34.0\n",
              "16                             0.914589                         34.0\n",
              "17                             0.914557                         61.0\n",
              "18                             0.914557                         61.0\n",
              "19                             0.914557                         61.0\n",
              "20                             0.914557                         61.0\n",
              "21                             0.914557                         61.0\n",
              "22                             0.914557                         61.0\n",
              "23                             0.914557                         61.0\n",
              "24                             0.914557                         64.0\n",
              "25                             0.914557                         64.0\n",
              "26                             0.914557                         64.0\n",
              "27                             0.914557                         64.0\n",
              "28                             0.914589                         34.0\n",
              "29                             0.924620                         34.0"
            ]
          },
          "metadata": {},
          "execution_count": 113
        }
      ]
    },
    {
      "cell_type": "code",
      "metadata": {
        "colab": {
          "base_uri": "https://localhost:8080/",
          "height": 279
        },
        "id": "BvJ_zvXkzQpA",
        "outputId": "a1de59f2-603f-48ee-ebe8-2abcdae05391"
      },
      "source": [
        "#Visualize your results by plotting the mean cross-validation accuracy (with a tuned `k` on y axis)\n",
        "#vs.the number of features (x axis). This plot describes: what is the best cv score with 1 feature, 2 features, 3 features ... and all the features. **[0.5]**\n",
        "\n",
        "x=np.linspace(1,len(original_dataset.feature_names),len(original_dataset.feature_names))\n",
        "reversed=best_meancrossval[::-1]\n",
        "plt.xlabel('number of features')\n",
        "plt.ylabel('Mean validation accuracy after tuning k')\n",
        "plt.plot(x,reversed)\n",
        "  \n",
        "plt.show()"
      ],
      "execution_count": null,
      "outputs": [
        {
          "output_type": "display_data",
          "data": {
            "image/png": "[encoded data removed]",
            "text/plain": [
              "<Figure size 432x288 with 1 Axes>"
            ]
          },
          "metadata": {
            "needs_background": "light"
          }
        }
      ]
    },
    {
      "cell_type": "code",
      "metadata": {
        "colab": {
          "base_uri": "https://localhost:8080/",
          "height": 279
        },
        "id": "8QoxB3rWzcFR",
        "outputId": "ca3ffa90-0912-401a-b834-17a4d6d0a439"
      },
      "source": [
        "#Plot the best value of `k` (y-axis) vs. the number of features. This plot explains the trend of number of neighbours with respect to the number of features.  **[0.5]**\n",
        "\n",
        "x=np.linspace(1,len(original_dataset.feature_names),len(original_dataset.feature_names))\n",
        "plt.xlabel('Number of features')\n",
        "plt.ylabel('Best value of k')\n",
        "plt.plot(x,bestklist[::-1])\n",
        "  \n",
        "plt.show()"
      ],
      "execution_count": null,
      "outputs": [
        {
          "output_type": "display_data",
          "data": {
            "image/png": "[encoded data removed]",
            "text/plain": [
              "<Figure size 432x288 with 1 Axes>"
            ]
          },
          "metadata": {
            "needs_background": "light"
          }
        }
      ]
    },
    {
      "cell_type": "markdown",
      "metadata": {
        "id": "GTXjb1sWmDZL"
      },
      "source": [
        "## Part 4: Standardization [1.5 Marks]\n",
        "\n",
        "Standardizing the data usually means scaling our data to have a mean of zero and a standard deviation of one. \n",
        "\n",
        "**Note:** When we standardize a dataset, do we care if the data points are in our training set or test set? Yes! The training set is available for us to train a model - we can use it however we want. The test set, however, represents a subset of data that is not available for us during training. For example, the test set can represent the data that someone who bought our model would use to see how the model performs (which they are not willing to share with us).\n",
        "Therefore, we cannot compute the mean or standard deviation of the whole dataset to standardize it - we can only calculate the mean and standard deviation of the training set. However, when we sell a model to someone, we can say what our scalers (mean and standard deviation of our training set) was. They can scale their data (test set) with our training set's mean and standard deviation. Of course, there is no guarantee that the test set would have a mean of zero and a standard deviation of one, but it should work fine.\n",
        "\n",
        "**To summarize: We fit the StandardScaler only on the training set. We transform both training and test sets with that scaler.**\n",
        "\n",
        "1. Standardize the training  and test data ([Help](https://scikit-learn.org/stable/modules/preprocessing.html)) **[0.5]**\n",
        "\n",
        "2. Call your ``Feature_selector`` function on the standardized training data with a threshold of 0.95\\%.  **[0.5]**\n",
        " * Plot the Cross validation accuracy when we have the standardized data (this part) and the original training data (last part) vs. the Number of features in a single plot (to compare them easily).\n",
        "\n",
        "3. Discuss how standardization (helped/hurt) your model and its performance? Discuss which cases lead to a higher cross validation accuracy (how many features? which features? What K?) **[0.5]**\n",
        "\n",
        "Answer (check part 3 and part 4 results)\n",
        "We can clearly see that standarization improved our model performance. As expected and clearly explained in part 1. For 30 features our model gave a best validation accuracy of approx. 0.93 for k=10 on unormalized data and approx. 0.97 for k=10 on normalized data. We can also notice that in the unormalized case in part 3 that removing two features (training with 28 features)  did not affect the model performance (validation accuracy did not drop = 0.93452 and k=10). However in the case of normalized data (with a uniform scale throughout all the features) the best validation accuracy is achieved on 30 features and drops slightly each time a feature is dropped from the training data. This also enforce our claim that the features contribution's is better for our algorithm training when normalizing."
      ]
    },
    {
      "cell_type": "code",
      "metadata": {
        "id": "NUu9nYnNGUyE"
      },
      "source": [
        "from sklearn import preprocessing\n",
        "import numpy as np"
      ],
      "execution_count": null,
      "outputs": []
    },
    {
      "cell_type": "code",
      "metadata": {
        "id": "xAwAGR6_2bu3"
      },
      "source": [
        "\n",
        "scaler = preprocessing.StandardScaler().fit(X_train)\n",
        "\n",
        "X_train_normalized=scaler.transform(X_train)\n",
        "X_test_normalized=scaler.transform(X_test)\n"
      ],
      "execution_count": null,
      "outputs": []
    },
    {
      "cell_type": "code",
      "metadata": {
        "colab": {
          "base_uri": "https://localhost:8080/"
        },
        "id": "3_WJTTdiHZEm",
        "outputId": "f362dfd0-3299-4072-9c19-fd8d9da293c4"
      },
      "source": [
        "removed_featuresn,best_meancrossvaln,bestklistn=Feature_selector (X_train_normalized , y_train ,0.95)\n",
        "print(\"The list of the removed features: \",removed_featuresn)\n",
        "print(\"The best mean cross-validation accuracy after removing each feature: \",best_meancrossvaln)\n",
        "print(\"Best k values (corresponding to highest validation) when a feature was removed: \",bestklistn)"
      ],
      "execution_count": null,
      "outputs": [
        {
          "output_type": "stream",
          "name": "stdout",
          "text": [
            "The list of the removed features:  ['mean radius', 'mean texture', 'mean area', 'mean smoothness', 'mean compactness', 'mean perimeter', 'mean concavity', 'mean concave points', 'mean fractal dimension', 'texture error', 'perimeter error', 'compactness error', 'concavity error', 'smoothness error', 'concave points error', 'symmetry error', 'worst perimeter', 'worst smoothness', 'worst fractal dimension', 'worst radius', 'fractal dimension error', 'radius error', 'worst compactness', 'worst texture', 'mean symmetry', 'worst symmetry', 'worst concavity', 'area error', 'worst area']\n",
            "The best mean cross-validation accuracy after removing each feature:  [0.9674367088607594, 0.9649683544303798, 0.9623417721518986, 0.9623417721518986, 0.9572784810126581, 0.9598417721518986, 0.9623417721518986, 0.9573101265822783, 0.9573101265822785, 0.9548101265822785, 0.9573417721518988, 0.9573417721518986, 0.9572784810126581, 0.9598101265822784, 0.9648734177215189, 0.9673417721518988, 0.9623417721518986, 0.9623417721518986, 0.9674050632911392, 0.9648734177215189, 0.9598101265822784, 0.9598417721518986, 0.9623734177215189, 0.9624050632911393, 0.9548101265822784, 0.9573417721518986, 0.957373417721519, 0.9572784810126581, 0.9496518987341773, 0.9246202531645569]\n",
            "Best k values (corresponding to highest validation) when a feature was removed:  [10, 8, 4, 5, 6, 7, 7, 7, 8, 7, 7, 8, 3, 8, 8, 4, 6, 8, 6, 7, 9, 13, 9, 10, 18, 28, 27, 5, 6, 34]\n"
          ]
        }
      ]
    },
    {
      "cell_type": "code",
      "metadata": {
        "colab": {
          "base_uri": "https://localhost:8080/",
          "height": 945
        },
        "id": "W0EfNRFzo9mT",
        "outputId": "5a0ce0a6-97e3-4460-9768-84aeee0a39cf"
      },
      "source": [
        "removed_featuresn_df=pd.DataFrame(np.array(removed_featuresn),columns=['Dropped least important features from X_train after each iteration'])\n",
        "removed_featuresn_df"
      ],
      "execution_count": null,
      "outputs": [
        {
          "output_type": "execute_result",
          "data": {
            "text/html": [
              "<div>\n",
              "<style scoped>\n",
              "    .dataframe tbody tr th:only-of-type {\n",
              "        vertical-align: middle;\n",
              "    }\n",
              "\n",
              "    .dataframe tbody tr th {\n",
              "        vertical-align: top;\n",
              "    }\n",
              "\n",
              "    .dataframe thead th {\n",
              "        text-align: right;\n",
              "    }\n",
              "</style>\n",
              "<table border=\"1\" class=\"dataframe\">\n",
              "  <thead>\n",
              "    <tr style=\"text-align: right;\">\n",
              "      <th></th>\n",
              "      <th>Dropped least important features from X_train after each iteration</th>\n",
              "    </tr>\n",
              "  </thead>\n",
              "  <tbody>\n",
              "    <tr>\n",
              "      <th>0</th>\n",
              "      <td>mean radius</td>\n",
              "    </tr>\n",
              "    <tr>\n",
              "      <th>1</th>\n",
              "      <td>mean texture</td>\n",
              "    </tr>\n",
              "    <tr>\n",
              "      <th>2</th>\n",
              "      <td>mean area</td>\n",
              "    </tr>\n",
              "    <tr>\n",
              "      <th>3</th>\n",
              "      <td>mean smoothness</td>\n",
              "    </tr>\n",
              "    <tr>\n",
              "      <th>4</th>\n",
              "      <td>mean compactness</td>\n",
              "    </tr>\n",
              "    <tr>\n",
              "      <th>5</th>\n",
              "      <td>mean perimeter</td>\n",
              "    </tr>\n",
              "    <tr>\n",
              "      <th>6</th>\n",
              "      <td>mean concavity</td>\n",
              "    </tr>\n",
              "    <tr>\n",
              "      <th>7</th>\n",
              "      <td>mean concave points</td>\n",
              "    </tr>\n",
              "    <tr>\n",
              "      <th>8</th>\n",
              "      <td>mean fractal dimension</td>\n",
              "    </tr>\n",
              "    <tr>\n",
              "      <th>9</th>\n",
              "      <td>texture error</td>\n",
              "    </tr>\n",
              "    <tr>\n",
              "      <th>10</th>\n",
              "      <td>perimeter error</td>\n",
              "    </tr>\n",
              "    <tr>\n",
              "      <th>11</th>\n",
              "      <td>compactness error</td>\n",
              "    </tr>\n",
              "    <tr>\n",
              "      <th>12</th>\n",
              "      <td>concavity error</td>\n",
              "    </tr>\n",
              "    <tr>\n",
              "      <th>13</th>\n",
              "      <td>smoothness error</td>\n",
              "    </tr>\n",
              "    <tr>\n",
              "      <th>14</th>\n",
              "      <td>concave points error</td>\n",
              "    </tr>\n",
              "    <tr>\n",
              "      <th>15</th>\n",
              "      <td>symmetry error</td>\n",
              "    </tr>\n",
              "    <tr>\n",
              "      <th>16</th>\n",
              "      <td>worst perimeter</td>\n",
              "    </tr>\n",
              "    <tr>\n",
              "      <th>17</th>\n",
              "      <td>worst smoothness</td>\n",
              "    </tr>\n",
              "    <tr>\n",
              "      <th>18</th>\n",
              "      <td>worst fractal dimension</td>\n",
              "    </tr>\n",
              "    <tr>\n",
              "      <th>19</th>\n",
              "      <td>worst radius</td>\n",
              "    </tr>\n",
              "    <tr>\n",
              "      <th>20</th>\n",
              "      <td>fractal dimension error</td>\n",
              "    </tr>\n",
              "    <tr>\n",
              "      <th>21</th>\n",
              "      <td>radius error</td>\n",
              "    </tr>\n",
              "    <tr>\n",
              "      <th>22</th>\n",
              "      <td>worst compactness</td>\n",
              "    </tr>\n",
              "    <tr>\n",
              "      <th>23</th>\n",
              "      <td>worst texture</td>\n",
              "    </tr>\n",
              "    <tr>\n",
              "      <th>24</th>\n",
              "      <td>mean symmetry</td>\n",
              "    </tr>\n",
              "    <tr>\n",
              "      <th>25</th>\n",
              "      <td>worst symmetry</td>\n",
              "    </tr>\n",
              "    <tr>\n",
              "      <th>26</th>\n",
              "      <td>worst concavity</td>\n",
              "    </tr>\n",
              "    <tr>\n",
              "      <th>27</th>\n",
              "      <td>area error</td>\n",
              "    </tr>\n",
              "    <tr>\n",
              "      <th>28</th>\n",
              "      <td>worst area</td>\n",
              "    </tr>\n",
              "  </tbody>\n",
              "</table>\n",
              "</div>"
            ],
            "text/plain": [
              "   Dropped least important features from X_train after each iteration\n",
              "0                                         mean radius                \n",
              "1                                        mean texture                \n",
              "2                                           mean area                \n",
              "3                                     mean smoothness                \n",
              "4                                    mean compactness                \n",
              "5                                      mean perimeter                \n",
              "6                                      mean concavity                \n",
              "7                                 mean concave points                \n",
              "8                              mean fractal dimension                \n",
              "9                                       texture error                \n",
              "10                                    perimeter error                \n",
              "11                                  compactness error                \n",
              "12                                    concavity error                \n",
              "13                                   smoothness error                \n",
              "14                               concave points error                \n",
              "15                                     symmetry error                \n",
              "16                                    worst perimeter                \n",
              "17                                   worst smoothness                \n",
              "18                            worst fractal dimension                \n",
              "19                                       worst radius                \n",
              "20                            fractal dimension error                \n",
              "21                                       radius error                \n",
              "22                                  worst compactness                \n",
              "23                                      worst texture                \n",
              "24                                      mean symmetry                \n",
              "25                                     worst symmetry                \n",
              "26                                    worst concavity                \n",
              "27                                         area error                \n",
              "28                                         worst area                "
            ]
          },
          "metadata": {},
          "execution_count": 119
        }
      ]
    },
    {
      "cell_type": "code",
      "metadata": {
        "colab": {
          "base_uri": "https://localhost:8080/",
          "height": 976
        },
        "id": "EQqidU-upGvH",
        "outputId": "8aff89bb-38eb-4902-9336-cf5fa941c0f3"
      },
      "source": [
        "bestvalandkdfn=pd.DataFrame(np.concatenate((np.array(best_meancrossvaln).reshape(-1,1), np.array(bestklistn).reshape(-1,1)), axis=1),columns=['Best mean cross-validation accuracy','Corresponding first best k value'])\n",
        "bestvalandkdfn"
      ],
      "execution_count": null,
      "outputs": [
        {
          "output_type": "execute_result",
          "data": {
            "text/html": [
              "<div>\n",
              "<style scoped>\n",
              "    .dataframe tbody tr th:only-of-type {\n",
              "        vertical-align: middle;\n",
              "    }\n",
              "\n",
              "    .dataframe tbody tr th {\n",
              "        vertical-align: top;\n",
              "    }\n",
              "\n",
              "    .dataframe thead th {\n",
              "        text-align: right;\n",
              "    }\n",
              "</style>\n",
              "<table border=\"1\" class=\"dataframe\">\n",
              "  <thead>\n",
              "    <tr style=\"text-align: right;\">\n",
              "      <th></th>\n",
              "      <th>Best mean cross-validation accuracy</th>\n",
              "      <th>Corresponding first best k value</th>\n",
              "    </tr>\n",
              "  </thead>\n",
              "  <tbody>\n",
              "    <tr>\n",
              "      <th>0</th>\n",
              "      <td>0.967437</td>\n",
              "      <td>10.0</td>\n",
              "    </tr>\n",
              "    <tr>\n",
              "      <th>1</th>\n",
              "      <td>0.964968</td>\n",
              "      <td>8.0</td>\n",
              "    </tr>\n",
              "    <tr>\n",
              "      <th>2</th>\n",
              "      <td>0.962342</td>\n",
              "      <td>4.0</td>\n",
              "    </tr>\n",
              "    <tr>\n",
              "      <th>3</th>\n",
              "      <td>0.962342</td>\n",
              "      <td>5.0</td>\n",
              "    </tr>\n",
              "    <tr>\n",
              "      <th>4</th>\n",
              "      <td>0.957278</td>\n",
              "      <td>6.0</td>\n",
              "    </tr>\n",
              "    <tr>\n",
              "      <th>5</th>\n",
              "      <td>0.959842</td>\n",
              "      <td>7.0</td>\n",
              "    </tr>\n",
              "    <tr>\n",
              "      <th>6</th>\n",
              "      <td>0.962342</td>\n",
              "      <td>7.0</td>\n",
              "    </tr>\n",
              "    <tr>\n",
              "      <th>7</th>\n",
              "      <td>0.957310</td>\n",
              "      <td>7.0</td>\n",
              "    </tr>\n",
              "    <tr>\n",
              "      <th>8</th>\n",
              "      <td>0.957310</td>\n",
              "      <td>8.0</td>\n",
              "    </tr>\n",
              "    <tr>\n",
              "      <th>9</th>\n",
              "      <td>0.954810</td>\n",
              "      <td>7.0</td>\n",
              "    </tr>\n",
              "    <tr>\n",
              "      <th>10</th>\n",
              "      <td>0.957342</td>\n",
              "      <td>7.0</td>\n",
              "    </tr>\n",
              "    <tr>\n",
              "      <th>11</th>\n",
              "      <td>0.957342</td>\n",
              "      <td>8.0</td>\n",
              "    </tr>\n",
              "    <tr>\n",
              "      <th>12</th>\n",
              "      <td>0.957278</td>\n",
              "      <td>3.0</td>\n",
              "    </tr>\n",
              "    <tr>\n",
              "      <th>13</th>\n",
              "      <td>0.959810</td>\n",
              "      <td>8.0</td>\n",
              "    </tr>\n",
              "    <tr>\n",
              "      <th>14</th>\n",
              "      <td>0.964873</td>\n",
              "      <td>8.0</td>\n",
              "    </tr>\n",
              "    <tr>\n",
              "      <th>15</th>\n",
              "      <td>0.967342</td>\n",
              "      <td>4.0</td>\n",
              "    </tr>\n",
              "    <tr>\n",
              "      <th>16</th>\n",
              "      <td>0.962342</td>\n",
              "      <td>6.0</td>\n",
              "    </tr>\n",
              "    <tr>\n",
              "      <th>17</th>\n",
              "      <td>0.962342</td>\n",
              "      <td>8.0</td>\n",
              "    </tr>\n",
              "    <tr>\n",
              "      <th>18</th>\n",
              "      <td>0.967405</td>\n",
              "      <td>6.0</td>\n",
              "    </tr>\n",
              "    <tr>\n",
              "      <th>19</th>\n",
              "      <td>0.964873</td>\n",
              "      <td>7.0</td>\n",
              "    </tr>\n",
              "    <tr>\n",
              "      <th>20</th>\n",
              "      <td>0.959810</td>\n",
              "      <td>9.0</td>\n",
              "    </tr>\n",
              "    <tr>\n",
              "      <th>21</th>\n",
              "      <td>0.959842</td>\n",
              "      <td>13.0</td>\n",
              "    </tr>\n",
              "    <tr>\n",
              "      <th>22</th>\n",
              "      <td>0.962373</td>\n",
              "      <td>9.0</td>\n",
              "    </tr>\n",
              "    <tr>\n",
              "      <th>23</th>\n",
              "      <td>0.962405</td>\n",
              "      <td>10.0</td>\n",
              "    </tr>\n",
              "    <tr>\n",
              "      <th>24</th>\n",
              "      <td>0.954810</td>\n",
              "      <td>18.0</td>\n",
              "    </tr>\n",
              "    <tr>\n",
              "      <th>25</th>\n",
              "      <td>0.957342</td>\n",
              "      <td>28.0</td>\n",
              "    </tr>\n",
              "    <tr>\n",
              "      <th>26</th>\n",
              "      <td>0.957373</td>\n",
              "      <td>27.0</td>\n",
              "    </tr>\n",
              "    <tr>\n",
              "      <th>27</th>\n",
              "      <td>0.957278</td>\n",
              "      <td>5.0</td>\n",
              "    </tr>\n",
              "    <tr>\n",
              "      <th>28</th>\n",
              "      <td>0.949652</td>\n",
              "      <td>6.0</td>\n",
              "    </tr>\n",
              "    <tr>\n",
              "      <th>29</th>\n",
              "      <td>0.924620</td>\n",
              "      <td>34.0</td>\n",
              "    </tr>\n",
              "  </tbody>\n",
              "</table>\n",
              "</div>"
            ],
            "text/plain": [
              "    Best mean cross-validation accuracy  Corresponding first best k value\n",
              "0                              0.967437                              10.0\n",
              "1                              0.964968                               8.0\n",
              "2                              0.962342                               4.0\n",
              "3                              0.962342                               5.0\n",
              "4                              0.957278                               6.0\n",
              "5                              0.959842                               7.0\n",
              "6                              0.962342                               7.0\n",
              "7                              0.957310                               7.0\n",
              "8                              0.957310                               8.0\n",
              "9                              0.954810                               7.0\n",
              "10                             0.957342                               7.0\n",
              "11                             0.957342                               8.0\n",
              "12                             0.957278                               3.0\n",
              "13                             0.959810                               8.0\n",
              "14                             0.964873                               8.0\n",
              "15                             0.967342                               4.0\n",
              "16                             0.962342                               6.0\n",
              "17                             0.962342                               8.0\n",
              "18                             0.967405                               6.0\n",
              "19                             0.964873                               7.0\n",
              "20                             0.959810                               9.0\n",
              "21                             0.959842                              13.0\n",
              "22                             0.962373                               9.0\n",
              "23                             0.962405                              10.0\n",
              "24                             0.954810                              18.0\n",
              "25                             0.957342                              28.0\n",
              "26                             0.957373                              27.0\n",
              "27                             0.957278                               5.0\n",
              "28                             0.949652                               6.0\n",
              "29                             0.924620                              34.0"
            ]
          },
          "metadata": {},
          "execution_count": 120
        }
      ]
    },
    {
      "cell_type": "code",
      "metadata": {
        "colab": {
          "base_uri": "https://localhost:8080/",
          "height": 295
        },
        "id": "sqy-ifmjg4RO",
        "outputId": "e1c375cd-a819-41bc-a729-37a5a1acf38b"
      },
      "source": [
        "x=np.linspace(1,len(original_dataset.feature_names),len(original_dataset.feature_names))\n",
        "plt.plot(x,best_meancrossvaln[::-1], 'g',label='Standarized data')\n",
        "plt.plot(x,best_meancrossval[::-1], 'b',label='Original data')\n",
        "plt.title('Cross validation vs number of features ')\n",
        "plt.xlabel('Number of features')\n",
        "plt.ylabel('Cross validation accuracy')\n",
        "plt.legend()\n",
        "plt.show()"
      ],
      "execution_count": null,
      "outputs": [
        {
          "output_type": "display_data",
          "data": {
            "image/png": "[encoded data removed]",
            "text/plain": [
              "<Figure size 432x288 with 1 Axes>"
            ]
          },
          "metadata": {
            "needs_background": "light"
          }
        }
      ]
    },
    {
      "cell_type": "markdown",
      "metadata": {
        "id": "k7QjKjHn2TZR"
      },
      "source": [
        "## Part 5: Test Data [0.5 Mark]\n",
        "\n",
        "Now that you've created several models, pick your best one (highest CV accuracy) and apply it to the test dataset you had initially set aside. Discuss your results. **[0.5]**\n",
        "\n",
        "In my opinion a 95.9% testing accuracy is good. In other words 4 of 100 people will be diagnosed wrongly. Which is acceptable and can be more improved for situation where the medical dr/patient is doubting the results by performing the medical test (testing our model) and collecting medical information (collecting our features) two times because it is a delicate application that involves people's health and life."
      ]
    },
    {
      "cell_type": "code",
      "metadata": {
        "id": "acdJ7EijBYqB",
        "colab": {
          "base_uri": "https://localhost:8080/"
        },
        "outputId": "1fdb61fc-4faa-42b2-d412-61a23430c04a"
      },
      "source": [
        "from sklearn.metrics import accuracy_score\n",
        "\n",
        "optimal=max(best_meancrossvaln)\n",
        "optimal_index=best_meancrossvaln.index(optimal)\n",
        "print(\"The best cross validation accuracy is:\", optimal, \"for \",optimal_index,\" features removed and  k=10\")"
      ],
      "execution_count": null,
      "outputs": [
        {
          "output_type": "stream",
          "name": "stdout",
          "text": [
            "The best cross validation accuracy is: 0.9674367088607594 for  0  features removed and  k=10\n"
          ]
        }
      ]
    },
    {
      "cell_type": "code",
      "metadata": {
        "colab": {
          "base_uri": "https://localhost:8080/"
        },
        "id": "FEMovfS_gpFF",
        "outputId": "6a37b20e-8e3c-4273-d8cc-a36d162142d9"
      },
      "source": [
        "from sklearn.metrics import accuracy_score\n",
        "\n",
        "knn_final = neighbors.KNeighborsClassifier(n_neighbors=10)\n",
        "knn_final.fit(X_train_normalized, y_train)\n",
        "testing_accuracy = accuracy_score(y_test, knn_final.predict(X_test_normalized))\n",
        "print (\"Test set accuracy: \", testing_accuracy * 100, \"%\")"
      ],
      "execution_count": null,
      "outputs": [
        {
          "output_type": "stream",
          "name": "stdout",
          "text": [
            "Test set accuracy:  95.90643274853801 %\n"
          ]
        }
      ]
    },
    {
      "cell_type": "markdown",
      "metadata": {
        "id": "yhCf82AOe3IS"
      },
      "source": [
        "References:\n",
        "\n",
        "https://towardsdatascience.com/decision-trees-in-machine-learning-641b9c4e8052\n",
        "\n",
        "https://www.analyticsvidhya.com/blog/2021/02/machine-learning-101-decision-tree-algorithm-for-classification/"
      ]
    }
  ]
}